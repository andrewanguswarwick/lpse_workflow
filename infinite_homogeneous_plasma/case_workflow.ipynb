{
 "cells": [
  {
   "cell_type": "markdown",
   "metadata": {},
   "source": [
    "# Initialisation"
   ]
  },
  {
   "cell_type": "code",
   "execution_count": null,
   "metadata": {},
   "outputs": [],
   "source": [
    "import write_files as wf\n",
    "import ihp\n",
    "import lpse_data as ld\n",
    "import matplotlib.pyplot as plt\n",
    "import numpy as np\n",
    "from time import time as stopwatch\n",
    "from calc_inputs import *\n",
    "\n",
    "# Ipython magic features\n",
    "%load_ext autoreload\n",
    "%autoreload 2\n",
    "  \n",
    "# LPSE class\n",
    "lpse = ld.lpse_case()\n",
    "lpse.dfp = './data/lpse.' # Data file prefix\n",
    "lpse.verbose = False # Show prints\n",
    "lpse.np = 1 # Number of processors\n",
    "lpse.bin = '/home/space/phrfqm/lpse-3.2.11/bin/lpse_cpu' # Binary"
   ]
  },
  {
   "cell_type": "markdown",
   "metadata": {},
   "source": [
    "# Case setup"
   ]
  },
  {
   "cell_type": "code",
   "execution_count": null,
   "metadata": {},
   "outputs": [],
   "source": [
    "jc = wf.job_control()\n",
    "jc.version = '3.2.11' \n",
    "jc.seed = 1 # 0 for random, otherwise fixed seed\n",
    "jc.resources.heartbeatInterval = 0.1 # minutes\n",
    "jc.verbose = 2\n",
    "lpse.add_class(jc)"
   ]
  },
  {
   "cell_type": "code",
   "execution_count": null,
   "metadata": {},
   "outputs": [],
   "source": [
    "gr = wf.gridding()\n",
    "gr.grid.sizes = 1.0 # microns\n",
    "gr.grid.nodes = 10\n",
    "gr.grid.antiAliasing.isAutomatic = 'false'\n",
    "gr.grid.antiAliasing.range = 0.333\n",
    "lpse.add_class(gr)"
   ]
  },
  {
   "cell_type": "code",
   "execution_count": null,
   "metadata": {},
   "outputs": [],
   "source": [
    "cm = wf.components()\n",
    "cm.laser.enable = 'true'\n",
    "cm.raman.enable = 'true'\n",
    "cm.lw.enable = 'true'\n",
    "lpse.add_class(cm)"
   ]
  },
  {
   "cell_type": "code",
   "execution_count": null,
   "metadata": {},
   "outputs": [],
   "source": [
    "tc = wf.temporal_control()\n",
    "tc.simulation.samplePeriod = 0.05 # ps\n",
    "tc.simulation.time.end = 0.5 # ps\n",
    "lpse.add_class(tc)"
   ]
  },
  {
   "cell_type": "code",
   "execution_count": null,
   "metadata": {},
   "outputs": [],
   "source": [
    "io = wf.io_control()\n",
    "io.grid.downSampleFactors = 1 # Spatial\n",
    "io.laser.save.E0.z = lpse.dfp + 'E0_z'\n",
    "io.raman.save.E0.z = lpse.dfp + 'E1_z'\n",
    "io.lw.save.pots = lpse.dfp + 'pots'\n",
    "io.raman.save.S0.x = lpse.dfp + 'S1_x'\n",
    "lpse.add_class(io)"
   ]
  },
  {
   "cell_type": "code",
   "execution_count": null,
   "metadata": {},
   "outputs": [],
   "source": [
    "pp = wf.physical_parameters()\n",
    "pp.physical.Z = 1.0\n",
    "pp.physical.Te = 0.1 # keV\n",
    "pp.physical.Ti = 0.1 # keV\n",
    "pp.physical.MiOverMe = 1836.15\n",
    "# pp.lw.envelopeDensity = 0.15\n",
    "lpse.plasmaFrequencyDensity = 0.15\n",
    "pp.densityProfile.shape = 'linear'\n",
    "pp.densityProfile.geometry = 'cartesian'\n",
    "pp.densityProfile.NminOverNc = 0.15\n",
    "pp.densityProfile.NmaxOverNc = 0.15\n",
    "pp.densityProfile.NminLocation = '-50 0 0'\n",
    "pp.densityProfile.NmaxLocation = '50 0 0'\n",
    "lpse.add_class(pp)"
   ]
  },
  {
   "cell_type": "code",
   "execution_count": null,
   "metadata": {},
   "outputs": [],
   "source": [
    "lc = wf.light_control()\n",
    "lc.laser.wavelength = 0.351 # microns\n",
    "lc.laser.pumpDepletion.SRS.enable = 'false'\n",
    "lc.laser.evolution.Labc = 0 # microns\n",
    "lc.laser.evolution.Loff = 0 # microns\n",
    "lc.laser.solver = 'static'\n",
    "lc.laser.evolution.solverOrder = 2\n",
    "lc.laser.evolution.dtFraction = 0.95\n",
    "lc.laser.maxRamanStepsPerStep = 1\n",
    "lc.raman.sourceTerm.lw.enable = 'true'\n",
    "lc.raman.evolution.Labc = 0\n",
    "lc.raman.evolution.Loff = 0 \n",
    "lc.raman.maxLaserStepsPerStep = 1\n",
    "# fd solver\n",
    "# lc.raman.solver = 'fd'\n",
    "# lc.raman.evolution.solverOrder = 2\n",
    "# lc.raman.evolution.dtFraction = 0.95\n",
    "# spectral solver\n",
    "lc.raman.solver = 'spectral'\n",
    "lc.raman.spectral.dt = 2e-6\n",
    "lpse.add_class(lc)"
   ]
  },
  {
   "cell_type": "code",
   "execution_count": null,
   "metadata": {},
   "outputs": [],
   "source": [
    "ls = wf.light_source()\n",
    "ls.laser.nBeams = 1\n",
    "ls.laser.intensity = ['2.0e+15'] # W/cm^2\n",
    "ls.laser.phase = [0] # degrees\n",
    "ls.laser.polarization = [90] # degrees\n",
    "ls.laser.direction = ['1 0 0']\n",
    "ls.laser.frequencyShift = [0]\n",
    "ls.laser.group = [0]\n",
    "ls.laser.evolution.source = ['min.x']\n",
    "ls.laser.evolution.offset = ['0 0 0'] # microns\n",
    "ls.laser.evolution.width = [0] # Half-width at 1/e of sgauss [um]\n",
    "ls.laser.evolution.sgOrder = [4]\n",
    "# ls.raman.nBeams = 1\n",
    "# ls.raman.intensity = ['8.0e+10'] # W/cm^2\n",
    "# ls.raman.phase = [0] # degrees\n",
    "# ls.raman.polarization = [90] # degrees\n",
    "# ls.raman.direction = ['-1 0 0']\n",
    "# ls.raman.frequencyShift = [0]\n",
    "# ls.raman.group = [0]\n",
    "# ls.raman.evolution.source = ['max.x']\n",
    "# ls.raman.evolution.offset = ['0 0 0'] # microns\n",
    "# ls.raman.evolution.width = [0] # Half-width at 1/e of sgauss [um]\n",
    "# ls.raman.evolution.sgOrder = [4]\n",
    "lpse.add_class(ls)"
   ]
  },
  {
   "cell_type": "code",
   "execution_count": null,
   "metadata": {},
   "outputs": [],
   "source": [
    "lwc = wf.lw_control()\n",
    "lwc.lw.SRS.enable = 'true'\n",
    "lwc.lw.spectral.dt = 2e-4 # ps\n",
    "lwc.lw.Labc = 0 # microns\n",
    "lwc.lw.noise.enable = 'false'\n",
    "lwc.lw.noise.isCalculated = 'false'\n",
    "lwc.lw.noise.amplitude = 1e-10\n",
    "lwc.lw.collisionalDampingRate = 0.0\n",
    "lwc.lw.maxLightStepsPerStep = 1\n",
    "lwc.lw.__dict__['collisionalDampingRate.isCalculated'] = 'false'\n",
    "lwc.lw.landauDamping.enable = 'false'\n",
    "lwc.lw.landauDamping.lowerThreshold = 0.0\n",
    "lwc.lw.kFilter.enable = 'true'\n",
    "lwc.lw.kFilter.scale = 1.2\n",
    "lpse.add_class(lwc)"
   ]
  },
  {
   "cell_type": "code",
   "execution_count": null,
   "metadata": {},
   "outputs": [],
   "source": [
    "ins = wf.instrumentation()\n",
    "ins.metrics.enable = 'true'\n",
    "ins.metrics.file = lpse.dfp + 'metrics'\n",
    "ins.metrics.samplePeriod = 0.05 # ps\n",
    "lpse.add_class(ins)"
   ]
  },
  {
   "cell_type": "code",
   "execution_count": null,
   "metadata": {},
   "outputs": [],
   "source": [
    "pert = wf.initial_perturbation()\n",
    "pert.initialPerturbation.enable = 'true'\n",
    "pert.initialPerturbation.field = 'E1_z'\n",
    "pert.initialPerturbation.type = 'planeWave'\n",
    "pert.initialPerturbation.wavelength = 1 # set after wavematching\n",
    "pert.initialPerturbation.direction = '[-1 0 0]'\n",
    "pert.initialPerturbation.envelopeSize = '[0 0 0]' # infinite\n",
    "pert.initialPerturbation.envelopeOffset = '[0 0 0]'\n",
    "pert.initialPerturbation.amplitude = 1 # set after wavematching\n",
    "lpse.add_class(pert)"
   ]
  },
  {
   "cell_type": "markdown",
   "metadata": {},
   "source": [
    "# Theoretical SRS growth rate and input calcs"
   ]
  },
  {
   "cell_type": "code",
   "execution_count": null,
   "metadata": {
    "code_folding": [],
    "scrolled": false
   },
   "outputs": [],
   "source": [
    "# Adjust temperature and density slightly to get better wavelength matching\n",
    "eps = np.finfo(np.float64).eps\n",
    "max_iter = 50; minints = 4\n",
    "ihp.rhoT_adjust(lpse,tol=4*eps,max_iter=max_iter,minints=minints)"
   ]
  },
  {
   "cell_type": "code",
   "execution_count": null,
   "metadata": {
    "scrolled": true
   },
   "outputs": [],
   "source": [
    "# Theory results\n",
    "gamma, gamma0, k = ihp.srs_theory(lpse)"
   ]
  },
  {
   "cell_type": "code",
   "execution_count": null,
   "metadata": {},
   "outputs": [],
   "source": [
    "# Match domain size to wavelength integer multiples\n",
    "cells_per_wvl = 50\n",
    "minints = 4; max_iter = 50\n",
    "ihp.wavelength_matching(lpse,k,tol=4*eps,max_iter=max_iter,minints=minints,cells_per_wvl=cells_per_wvl)"
   ]
  },
  {
   "cell_type": "code",
   "execution_count": null,
   "metadata": {},
   "outputs": [],
   "source": [
    "# Set LW envelope density and spectral timesteps\n",
    "freqs = bsrs_lw_envelope(lpse,cells_per_wvl=cells_per_wvl)\n",
    "print(freqs)\n",
    "print(k)\n",
    "print('')\n",
    "spectral_dt(lpse,freqs,dt_frac=0.99)"
   ]
  },
  {
   "cell_type": "markdown",
   "metadata": {},
   "source": [
    "# Run case and get LPSE SRS growth rate"
   ]
  },
  {
   "cell_type": "code",
   "execution_count": null,
   "metadata": {},
   "outputs": [],
   "source": [
    "t1 = stopwatch()\n",
    "pfit = ihp.srs_growth_error(lpse,gamma,gamma0,ld=False)\n",
    "t2 = stopwatch()\n",
    "print(f'Time taken: {t2-t1:0.3f} s')"
   ]
  },
  {
   "cell_type": "code",
   "execution_count": null,
   "metadata": {},
   "outputs": [],
   "source": [
    "# Check E field of waves\n",
    "datt = lpse.fdat['E0_z']\n",
    "plt.plot(datt['x'],np.real(datt['data'][0]))\n",
    "plt.xlabel('x [um]')\n",
    "plt.ylabel('E0')\n",
    "plt.show()\n",
    "datt = lpse.fdat['E1_z']\n",
    "xdat = datt['x']\n",
    "ydat = np.real(datt['data'][-1])\n",
    "plt.plot(xdat,ydat)\n",
    "plt.xlabel('x [um]')\n",
    "plt.ylabel('E1')\n",
    "plt.show()\n",
    "datt = lpse.fdat['pots']\n",
    "xdat = datt['x']\n",
    "ydat = np.real(datt['data'][-1])\n",
    "plt.plot(xdat,ydat)\n",
    "plt.xlabel('x [um]')\n",
    "plt.ylabel('E_EPW')\n",
    "plt.show()"
   ]
  },
  {
   "cell_type": "code",
   "execution_count": null,
   "metadata": {},
   "outputs": [],
   "source": [
    "# LW absorption metrics\n",
    "lpse.plot_metric('EPW_power_absorbed_by_LD',loglin=True)\n",
    "lpse.plot_metric('EPW_power_absorbed_by_collisional_damping',loglin=True)\n",
    "lpse.plot_metric('EPW_energy',loglin=True)"
   ]
  },
  {
   "cell_type": "code",
   "execution_count": null,
   "metadata": {},
   "outputs": [],
   "source": [
    "# Get known theory results\n",
    "undampedx = []; undampedy = []\n",
    "dampedx = []; dampedy = []\n",
    "with open('ihp_undamped.csv','r') as fp:\n",
    "  for line in fp:\n",
    "    lin = line.strip().split(',')\n",
    "    undampedx.append(float(lin[0]))\n",
    "    undampedy.append(float(lin[1]))\n",
    "with open('ihp_landau_damped.csv','r') as fp:\n",
    "  for line in fp:\n",
    "    lin = line.strip().split(',')\n",
    "    dampedx.append(float(lin[0]))\n",
    "    dampedy.append(float(lin[1]))"
   ]
  },
  {
   "cell_type": "code",
   "execution_count": null,
   "metadata": {},
   "outputs": [],
   "source": [
    "# Compare theory plots\n",
    "dens,gammas,ktest,gamma0s,LDs,dks = ihp.srs_theory_curve(lpse)\n",
    "dens0,gammas0,ktest0,gamma0s0, scrp,dks0 = ihp.srs_theory_curve(lpse,zerotemp=True)\n",
    "plt.plot(dens,gammas,label='My LD')\n",
    "# plt.plot(dens,LDs,label='My LD rate')\n",
    "plt.plot(dens,gamma0s,label='My undamped')\n",
    "plt.plot(dampedx,dampedy,label='True LD')\n",
    "plt.plot(dens0,gammas0,label='My zero T')\n",
    "plt.plot(undampedx,undampedy,label='True zero T')\n",
    "plt.xlabel('Critical density fraction')\n",
    "plt.ylabel(r'$\\gamma/\\omega_0$')\n",
    "plt.legend()\n",
    "plt.grid()\n",
    "plt.show()"
   ]
  },
  {
   "cell_type": "code",
   "execution_count": null,
   "metadata": {},
   "outputs": [],
   "source": [
    "plt.plot(dens,dks,label='3.5keV')\n",
    "plt.plot(dens,dks0,label='Zero T')\n",
    "plt.ylabel(r'$k\\lambda_D$')\n",
    "plt.xlabel('Critical density fraction')\n",
    "plt.ylim(0,1)\n",
    "plt.legend()\n",
    "plt.show()"
   ]
  }
 ],
 "metadata": {
  "kernelspec": {
   "display_name": "Python 3",
   "language": "python",
   "name": "python3"
  },
  "language_info": {
   "codemirror_mode": {
    "name": "ipython",
    "version": 3
   },
   "file_extension": ".py",
   "mimetype": "text/x-python",
   "name": "python",
   "nbconvert_exporter": "python",
   "pygments_lexer": "ipython3",
   "version": "3.6.6"
  }
 },
 "nbformat": 4,
 "nbformat_minor": 2
}
