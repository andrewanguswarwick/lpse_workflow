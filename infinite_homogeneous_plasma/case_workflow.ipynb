{
 "cells": [
  {
   "cell_type": "markdown",
   "metadata": {},
   "source": [
    "# Initialisation"
   ]
  },
  {
   "cell_type": "code",
   "execution_count": 221,
   "metadata": {},
   "outputs": [
    {
     "name": "stdout",
     "output_type": "stream",
     "text": [
      "The autoreload extension is already loaded. To reload it, use:\n",
      "  %reload_ext autoreload\n"
     ]
    }
   ],
   "source": [
    "import write_files as wf\n",
    "import ihp\n",
    "import lpse_data as ld\n",
    "import matplotlib.pyplot as plt\n",
    "import numpy as np\n",
    "import copy\n",
    "from time import time as stopwatch\n",
    "from calc_inputs import *\n",
    "\n",
    "# Ipython magic features\n",
    "%load_ext autoreload\n",
    "%autoreload 2\n",
    "  \n",
    "# LPSE class\n",
    "lpse = ld.lpse_case()\n",
    "lpse.dfp = './data/lpse.' # Data file prefix\n",
    "lpse.verbose = False # Show prints\n",
    "lpse.np = 1 # Number of processors\n",
    "lpse.bin = '/home/space/phrfqm/lpse-3.2.11/bin/lpse_cpu' # Binary"
   ]
  },
  {
   "cell_type": "markdown",
   "metadata": {},
   "source": [
    "# Case setup"
   ]
  },
  {
   "cell_type": "code",
   "execution_count": 222,
   "metadata": {},
   "outputs": [],
   "source": [
    "jc = wf.job_control()\n",
    "jc.version = '3.2.11' \n",
    "jc.seed = 1 # 0 for random, otherwise fixed seed\n",
    "jc.resources.heartbeatInterval = 0.1 # minutes\n",
    "jc.verbose = 2\n",
    "jc.isRelativistic = 'true'\n",
    "lpse.add_class(jc)"
   ]
  },
  {
   "cell_type": "code",
   "execution_count": 223,
   "metadata": {},
   "outputs": [],
   "source": [
    "gr = wf.gridding()\n",
    "gr.grid.sizes = 1.0 # microns\n",
    "gr.grid.nodes = 10\n",
    "gr.grid.antiAliasing.isAutomatic = 'false'\n",
    "gr.grid.antiAliasing.range = 0.333\n",
    "lpse.add_class(gr)"
   ]
  },
  {
   "cell_type": "code",
   "execution_count": 224,
   "metadata": {},
   "outputs": [],
   "source": [
    "cm = wf.components()\n",
    "cm.laser.enable = 'true'\n",
    "cm.raman.enable = 'true'\n",
    "cm.lw.enable = 'true'\n",
    "lpse.add_class(cm)"
   ]
  },
  {
   "cell_type": "code",
   "execution_count": 225,
   "metadata": {},
   "outputs": [],
   "source": [
    "tc = wf.temporal_control()\n",
    "tc.simulation.samplePeriod = 0.05 # ps\n",
    "tc.simulation.time.end = 0.5 # ps\n",
    "lpse.add_class(tc)"
   ]
  },
  {
   "cell_type": "code",
   "execution_count": 226,
   "metadata": {},
   "outputs": [],
   "source": [
    "io = wf.io_control()\n",
    "io.grid.downSampleFactors = 1 # Spatial\n",
    "io.laser.save.E0.z = lpse.dfp + 'E0_z'\n",
    "io.raman.save.E0.z = lpse.dfp + 'E1_z'\n",
    "io.lw.save.pots = lpse.dfp + 'pots'\n",
    "io.raman.save.S0.x = lpse.dfp + 'S1_x'\n",
    "lpse.add_class(io)"
   ]
  },
  {
   "cell_type": "code",
   "execution_count": 227,
   "metadata": {},
   "outputs": [],
   "source": [
    "pp = wf.physical_parameters()\n",
    "pp.physical.Z = 1.0\n",
    "pp.physical.Te = 4.5 # keV\n",
    "pp.physical.Ti = 4.5 # keV\n",
    "pp.physical.MiOverMe = 1836.15\n",
    "# pp.lw.envelopeDensity = 0.15\n",
    "lpse.plasmaFrequencyDensity = 0.15\n",
    "pp.densityProfile.shape = 'linear'\n",
    "pp.densityProfile.geometry = 'cartesian'\n",
    "pp.densityProfile.NminOverNc = 0.15\n",
    "pp.densityProfile.NmaxOverNc = 0.15\n",
    "pp.densityProfile.NminLocation = '-50 0 0'\n",
    "pp.densityProfile.NmaxLocation = '50 0 0'\n",
    "lpse.add_class(pp)"
   ]
  },
  {
   "cell_type": "code",
   "execution_count": 228,
   "metadata": {},
   "outputs": [],
   "source": [
    "lc = wf.light_control()\n",
    "lc.laser.wavelength = 0.351 # microns\n",
    "lc.laser.pumpDepletion.SRS.enable = 'false'\n",
    "lc.laser.evolution.Labc = 0 # microns\n",
    "lc.laser.evolution.Loff = 0 # microns\n",
    "lc.laser.solver = 'static'\n",
    "lc.laser.static.computeFieldInXSpace.enable = 'false'\n",
    "lc.laser.maxRamanStepsPerStep = 1\n",
    "lc.raman.sourceTerm.lw.enable = 'true'\n",
    "lc.raman.evolution.Labc = 0\n",
    "lc.raman.evolution.Loff = 0 \n",
    "lc.raman.maxLaserStepsPerStep = 1\n",
    "\n",
    "# fd solver\n",
    "# lc.laser.solver = 'fd'\n",
    "# lc.laser.evolution.solverOrder = 6\n",
    "# lc.laser.evolution.dtFraction = 0.95\n",
    "# lc.raman.solver = 'fd'\n",
    "# lc.raman.evolution.solverOrder = 6\n",
    "# lc.raman.evolution.dtFraction = 0.95\n",
    "\n",
    "# spectral solver\n",
    "lc.raman.solver = 'spectral'\n",
    "lc.raman.spectral.dt = 2e-6\n",
    "# lc.laser.solver = 'spectral'\n",
    "# lc.laser.spectral.dt = 2e-6\n",
    "\n",
    "lpse.add_class(lc)"
   ]
  },
  {
   "cell_type": "code",
   "execution_count": 229,
   "metadata": {},
   "outputs": [],
   "source": [
    "ls = wf.light_source()\n",
    "ls.laser.nBeams = 1\n",
    "ls.laser.intensity = ['2.0e+15'] # W/cm^2\n",
    "ls.laser.phase = [0] # degrees\n",
    "ls.laser.polarization = [90] # degrees\n",
    "ls.laser.direction = ['1 0 0']\n",
    "ls.laser.frequencyShift = [0]\n",
    "ls.laser.group = [0]\n",
    "ls.laser.evolution.source = ['min.x']\n",
    "ls.laser.evolution.offset = ['0 0 0'] # microns\n",
    "ls.laser.evolution.width = [0] # Half-width at 1/e of sgauss [um]\n",
    "ls.laser.evolution.sgOrder = [4]\n",
    "ls.raman.nBeams = 0\n",
    "ls.raman.intensity = ['8.0e+10'] # W/cm^2\n",
    "ls.raman.phase = [0] # degrees\n",
    "ls.raman.polarization = [90] # degrees\n",
    "ls.raman.direction = ['-1 0 0']\n",
    "ls.raman.frequencyShift = [0]\n",
    "ls.raman.group = [0]\n",
    "ls.raman.evolution.source = ['max.x']\n",
    "ls.raman.evolution.offset = ['0 0 0'] # microns\n",
    "ls.raman.evolution.width = [0] # Half-width at 1/e of sgauss [um]\n",
    "ls.raman.evolution.sgOrder = [4]\n",
    "lpse.add_class(ls)"
   ]
  },
  {
   "cell_type": "code",
   "execution_count": 230,
   "metadata": {},
   "outputs": [],
   "source": [
    "lwc = wf.lw_control()\n",
    "lwc.lw.SRS.enable = 'true'\n",
    "lwc.lw.spectral.dt = 2e-4 # ps\n",
    "lwc.lw.Labc = 0 # microns\n",
    "lwc.lw.noise.enable = 'false'\n",
    "lwc.lw.noise.isCalculated = 'false'\n",
    "lwc.lw.noise.amplitude = 1e-10\n",
    "lwc.lw.collisionalDampingRate = 0.0\n",
    "lwc.lw.maxLightStepsPerStep = 1\n",
    "lwc.lw.__dict__['collisionalDampingRate.isCalculated'] = 'false'\n",
    "lwc.lw.landauDamping.enable = 'true'\n",
    "lwc.lw.landauDamping.lowerThreshold = 0.0\n",
    "lwc.lw.kFilter.enable = 'true'\n",
    "lwc.lw.kFilter.scale = 1.2\n",
    "lpse.add_class(lwc)"
   ]
  },
  {
   "cell_type": "code",
   "execution_count": 231,
   "metadata": {},
   "outputs": [],
   "source": [
    "ins = wf.instrumentation()\n",
    "ins.metrics.enable = 'true'\n",
    "ins.metrics.file = lpse.dfp + 'metrics'\n",
    "ins.metrics.samplePeriod = 0.05 # ps\n",
    "lpse.add_class(ins)"
   ]
  },
  {
   "cell_type": "code",
   "execution_count": 232,
   "metadata": {},
   "outputs": [],
   "source": [
    "pert = wf.initial_perturbation()\n",
    "pert.initialPerturbation.enable = 'true'\n",
    "pert.initialPerturbation.field = 'E1_z'\n",
    "pert.initialPerturbation.type = 'planeWave'\n",
    "pert.initialPerturbation.wavelength = 1 # set after wavematching\n",
    "pert.initialPerturbation.direction = '[-1 0 0]'\n",
    "pert.initialPerturbation.envelopeSize = '[0 0 0]' # infinite\n",
    "pert.initialPerturbation.envelopeOffset = '[0 0 0]'\n",
    "pert.initialPerturbation.amplitude = 1 # set after wavematching\n",
    "lpse.add_class(pert)"
   ]
  },
  {
   "cell_type": "markdown",
   "metadata": {},
   "source": [
    "# Theoretical SRS growth rate and input calcs"
   ]
  },
  {
   "cell_type": "code",
   "execution_count": 233,
   "metadata": {
    "code_folding": []
   },
   "outputs": [
    {
     "name": "stdout",
     "output_type": "stream",
     "text": [
      "Optimised rho and T: [0.15  4.918]\n"
     ]
    }
   ],
   "source": [
    "# Adjust temperature and density slightly to get better wavelength matching\n",
    "eps = np.finfo(np.float64).eps\n",
    "max_iter = 20; minints = 2; disp = False; infl = False\n",
    "ihp.rhoT_adjust(lpse,tol=4*eps,max_iter=max_iter,minints=minints,infl=infl,disp=disp)"
   ]
  },
  {
   "cell_type": "code",
   "execution_count": 254,
   "metadata": {
    "scrolled": true
   },
   "outputs": [
    {
     "name": "stdout",
     "output_type": "stream",
     "text": [
      "Using 300 cells.\n",
      "LW envelope density is: 0.1998\n",
      "[[16.50693817 -7.07440207 23.58134024]]\n",
      "[0.9221334426225304, -0.3952000468382266, 1.317333489460757] 17900812.840967484\n",
      "Frequency matching error: -8.075e-13\n",
      "Wavenumber matching error: 0.000e+00\n",
      "Theory undamped SRS growth rate = 3.439e-03\n",
      "Theory Landau damped SRS growth rate = 1.524e-03\n",
      "[ 0.92213344 -0.39520005  1.31733349]\n"
     ]
    }
   ],
   "source": [
    "# Theory results\n",
    "gamma, gamma0, k, dk = ihp.srs_theory(lpse,inflation=infl,dispfun=disp,verbose=True)\n",
    "print(k)"
   ]
  },
  {
   "cell_type": "code",
   "execution_count": 235,
   "metadata": {},
   "outputs": [
    {
     "name": "stdout",
     "output_type": "stream",
     "text": [
      "iter: 0; ints: [2 2 2]; rel-err: 9.333e+00\n",
      "iter: 1; ints: [2 2 3]; rel-err: 7.619e+00\n",
      "iter: 2; ints: [3 2 3]; rel-err: 7.333e+00\n",
      "iter: 3; ints: [3 2 4]; rel-err: 5.333e+00\n",
      "iter: 4; ints: [3 2 5]; rel-err: 4.762e+00\n",
      "iter: 5; ints: [4 2 5]; rel-err: 3.333e+00\n",
      "iter: 6; ints: [4 2 6]; rel-err: 1.905e+00\n",
      "iter: 7; ints: [5 2 6]; rel-err: 2.286e+00\n",
      "iter: 8; ints: [5 2 7]; rel-err: 9.524e-01\n",
      "iter: 9; ints: [5 3 7]; rel-err: 6.000e+00\n",
      "iter: 10; ints: [5 3 8]; rel-err: 5.714e+00\n",
      "iter: 11; ints: [6 3 8]; rel-err: 4.000e+00\n",
      "iter: 12; ints: [6 3 9]; rel-err: 2.857e+00\n",
      "iter: 13; ints: [7 3 9]; rel-err: 2.000e+00\n",
      "iter: 14; ints: [ 7  3 10]; rel-err: 3.277e-14\n",
      "iter: 15; ints: [ 8  3 10]; rel-err: 2.857e+00\n",
      "iter: 16; ints: [ 8  3 11]; rel-err: 2.857e+00\n",
      "iter: 17; ints: [ 8  4 11]; rel-err: 4.667e+00\n",
      "iter: 18; ints: [ 8  4 12]; rel-err: 3.810e+00\n",
      "iter: 19; ints: [ 9  4 12]; rel-err: 2.667e+00\n",
      "Tolerance not met, using min error at iter 14.\n",
      "\n",
      "Final normalised values: [47.696 47.696 47.696]\n",
      "Final wavelengths mismatch: 3.277e-14\n",
      "Domain size: 2.664 microns\n",
      "Max wavelengths in domain: 10\n",
      "Using 400 cells.\n"
     ]
    }
   ],
   "source": [
    "# Match domain size to wavelength integer multiples\n",
    "cells_per_wvl = 40\n",
    "ihp.wavelength_matching(lpse,k,tol=4*eps,max_iter=max_iter,minints=minints,cells_per_wvl=cells_per_wvl)"
   ]
  },
  {
   "cell_type": "code",
   "execution_count": 236,
   "metadata": {},
   "outputs": [
    {
     "name": "stdout",
     "output_type": "stream",
     "text": [
      "[1.0, 0.5530397734503885, 0.44696022655041906]\n",
      "[ 0.92213344 -0.39520005  1.31733349]\n"
     ]
    }
   ],
   "source": [
    "# Set LW envelope density and spectral timesteps\n",
    "freqs = bsrs_lw_envelope(lpse,cells_per_wvl=cells_per_wvl,dispfun=disp)\n",
    "print(freqs)\n",
    "print(k)\n",
    "spectral_dt(lpse,freqs,dt_frac=0.99)"
   ]
  },
  {
   "cell_type": "markdown",
   "metadata": {},
   "source": [
    "# Run case and get LPSE SRS growth rate"
   ]
  },
  {
   "cell_type": "code",
   "execution_count": 255,
   "metadata": {},
   "outputs": [
    {
     "data": {
      "image/png": "[encoded data removed]",
      "text/plain": [
       "<Figure size 432x288 with 1 Axes>"
      ]
     },
     "metadata": {
      "needs_background": "light"
     },
     "output_type": "display_data"
    },
    {
     "name": "stdout",
     "output_type": "stream",
     "text": [
      "LPSE SRS growth rate is 1.755e-05\n",
      "Undamped theory SRS growth rate is 3.439e-03\n",
      "Landau damped theory SRS growth rate is 1.524e-03\n",
      "LPSE relative error = -98.848%\n",
      "Time taken: 22.698 s\n"
     ]
    }
   ],
   "source": [
    "if lwc.lw.landauDamping.enable == 'true':\n",
    "  ld = True\n",
    "else:\n",
    "  ld = False\n",
    "t1 = stopwatch()\n",
    "pfit = ihp.srs_growth_error(lpse,gamma,gamma0,ld=ld)\n",
    "t2 = stopwatch()\n",
    "print(f'Time taken: {t2-t1:0.3f} s')"
   ]
  },
  {
   "cell_type": "code",
   "execution_count": 247,
   "metadata": {},
   "outputs": [
    {
     "data": {
      "image/png": "[encoded data removed]",
      "text/plain": [
       "<Figure size 432x288 with 1 Axes>"
      ]
     },
     "metadata": {
      "needs_background": "light"
     },
     "output_type": "display_data"
    },
    {
     "name": "stdout",
     "output_type": "stream",
     "text": [
      "16.506699999999967\n"
     ]
    },
    {
     "data": {
      "image/png": "[encoded data removed]",
      "text/plain": [
       "<Figure size 432x288 with 1 Axes>"
      ]
     },
     "metadata": {
      "needs_background": "light"
     },
     "output_type": "display_data"
    },
    {
     "name": "stdout",
     "output_type": "stream",
     "text": [
      "-7.074300000000051\n"
     ]
    },
    {
     "data": {
      "image/png": "[encoded data removed]",
      "text/plain": [
       "<Figure size 432x288 with 1 Axes>"
      ]
     },
     "metadata": {
      "needs_background": "light"
     },
     "output_type": "display_data"
    },
    {
     "name": "stdout",
     "output_type": "stream",
     "text": [
      "23.58099999999996\n"
     ]
    }
   ],
   "source": [
    "# Check E field of waves\n",
    "lpse.fields(kspace=True)\n",
    "datt = lpse.fdat['E0_z']\n",
    "plt.plot(datt['x'],np.real(datt['data'][0]))\n",
    "plt.xlabel('k [1/um]')\n",
    "plt.ylabel('E0')\n",
    "plt.show()\n",
    "print(datt['x'][np.argmax(np.real(datt['data'][0]))])\n",
    "datt = lpse.fdat['E1_z']\n",
    "xdat = datt['x']\n",
    "ydat = np.real(datt['data'][-1])\n",
    "plt.plot(xdat,ydat)\n",
    "plt.xlabel('k [1/um]')\n",
    "plt.ylabel('E1')\n",
    "plt.show()\n",
    "print(datt['x'][np.argmax(abs(np.real(datt['data'][-1])))])\n",
    "datt = lpse.fdat['pots']\n",
    "xdat = datt['x']\n",
    "ydat = np.real(datt['data'][-1])\n",
    "plt.plot(xdat,ydat)\n",
    "plt.xlabel('k [1/um]')\n",
    "plt.ylabel('E_EPW')\n",
    "plt.show()\n",
    "print(datt['x'][np.argmax(abs(np.real(datt['data'][-1])))])"
   ]
  },
  {
   "cell_type": "code",
   "execution_count": 826,
   "metadata": {},
   "outputs": [
    {
     "data": {
      "image/png": "[encoded data removed]",
      "text/plain": [
       "<Figure size 432x288 with 1 Axes>"
      ]
     },
     "metadata": {
      "needs_background": "light"
     },
     "output_type": "display_data"
    },
    {
     "name": "stderr",
     "output_type": "stream",
     "text": [
      "/warwick/desktop/2018/software/MPI/GCC/7.3.0-2.30/OpenMPI/3.1.1/matplotlib/3.0.0-Python-3.6.6/lib/python3.6/site-packages/matplotlib/ticker.py:2241: UserWarning: Data has no positive values, and therefore cannot be log-scaled.\n",
      "  \"Data has no positive values, and therefore cannot be \"\n"
     ]
    },
    {
     "data": {
      "image/png": "[encoded data removed]",
      "text/plain": [
       "<Figure size 432x288 with 1 Axes>"
      ]
     },
     "metadata": {
      "needs_background": "light"
     },
     "output_type": "display_data"
    },
    {
     "data": {
      "image/png": "[encoded data removed]",
      "text/plain": [
       "<Figure size 432x288 with 1 Axes>"
      ]
     },
     "metadata": {
      "needs_background": "light"
     },
     "output_type": "display_data"
    }
   ],
   "source": [
    "# LW absorption metrics\n",
    "lpse.plot_metric('EPW_power_absorbed_by_LD',loglin=True)\n",
    "lpse.plot_metric('EPW_power_absorbed_by_collisional_damping',loglin=True)\n",
    "lpse.plot_metric('EPW_energy',loglin=True)"
   ]
  },
  {
   "cell_type": "code",
   "execution_count": 603,
   "metadata": {},
   "outputs": [],
   "source": [
    "# Get known theory results\n",
    "undampedx = []; undampedy = []\n",
    "dampedx = []; dampedy = []\n",
    "with open('ihp_undamped.csv','r') as fp:\n",
    "  for line in fp:\n",
    "    lin = line.strip().split(',')\n",
    "    undampedx.append(float(lin[0]))\n",
    "    undampedy.append(float(lin[1]))\n",
    "with open('ihp_landau_damped.csv','r') as fp:\n",
    "  for line in fp:\n",
    "    lin = line.strip().split(',')\n",
    "    dampedx.append(float(lin[0]))\n",
    "    dampedy.append(float(lin[1]))"
   ]
  },
  {
   "cell_type": "code",
   "execution_count": 782,
   "metadata": {},
   "outputs": [
    {
     "name": "stdout",
     "output_type": "stream",
     "text": [
      "0.26630605401415647 0.0076418067943218836 -0.08186457881519688\n",
      "1.433883037112232 2.556736784782228 -0.19152516139554426\n",
      "0.2556736784782228 0.16449808953347517\n",
      "1.433883037112232 2.556736784782228 -0.19152516139554426\n",
      "0.26980806336097196 0.009437773172380393 -0.08449553210773958\n",
      "1.2830083982741742 2.3821805427529306 -0.24489227218838158\n",
      "0.26444599320107487 0.1504681976591171\n",
      "1.2830083982741742 2.3821805427529306 -0.24489227218838158\n",
      "0.2732706137472061 0.011204942875422853 -0.08542745985286643\n",
      "1.1696113831749342 2.2489314949843977 -0.29250178892808504\n",
      "0.2721714896906531 0.13878446047497492\n",
      "1.1696113831749342 2.2489314949843977 -0.29250178892808504\n",
      "0.2766949782133848 0.01292876684815295 -0.08504824626017932\n",
      "1.0803420264205583 2.1426646710650132 -0.3359430070494798\n",
      "0.2791201902446479 0.1287799480022299\n",
      "1.0803420264205583 2.1426646710650132 -0.3359430070494798\n",
      "0.2800823614626458 0.01459621011121463 -0.08363898602478093\n"
     ]
    },
    {
     "name": "stderr",
     "output_type": "stream",
     "text": [
      "/home/space/phrfqm/lpse-3.2.11/cases/lpse_utils/calc_inputs.py:192: RuntimeWarning: invalid value encountered in log10\n",
      "  print(f'Permittivity: {abs(perm(om,k_ek))}\\n')\n",
      "/home/space/phrfqm/lpse-3.2.11/cases/lpse_utils/ihp.py:63: RuntimeWarning: invalid value encountered in log10\n",
      "  print(wavens[2]*dby,freqs[2]/omega_pe,np.log10(LD/omega_ek))\n",
      "/home/space/phrfqm/lpse-3.2.11/cases/lpse_utils/ihp.py:72: RuntimeWarning: invalid value encountered in sqrt\n",
      "  gamma0 = k_ek*vos/4*np.sqrt(omega_pe**2/(omega_ek*(omega0-omega_ek)))\n"
     ]
    },
    {
     "name": "stdout",
     "output_type": "stream",
     "text": [
      "1.3889347766478932 -2.5050403141074677 nan\n",
      "-0.34794756836571755 0.2163216610499279\n",
      "1.3889347766478932 -2.5050403141074677 nan\n",
      "0.28343390483330977 0.016195714078268364 -0.08141477551539342\n",
      "0.9470236439060438 1.9814829982875461 -0.41404164855761216\n",
      "0.29132626416698276 0.11228920087849185\n",
      "0.9470236439060438 1.9814829982875461 -0.41404164855761216\n",
      "0.28675069081559906 0.017717153546061896 -0.07854661213800096\n",
      "0.8953785425634125 1.9181797667051348 -0.4498771719998639\n",
      "0.2967876885129106 0.10533403220517219\n",
      "0.8953785425634125 1.9181797667051348 -0.4498771719998639\n",
      "0.29003374715660246 0.01915178893850631 -0.07517418532691826\n",
      "0.8507011577338808 1.863001727268678 -0.4840979906832545\n",
      "0.30191336193033724 0.09903400522678507\n",
      "0.8507011577338808 1.863001727268678 -0.4840979906832545\n",
      "0.29328405060395346 0.020492214361437906 -0.07141385015019598\n",
      "0.8115428134424787 1.8143116574139588 -0.5169829322504159\n",
      "0.306752076649442 0.0932834456101556\n",
      "0.8115428134424787 1.8143116574139588 -0.5169829322504159\n",
      "0.29650253032185 0.021732302002954024 -0.06736386610917401\n",
      "0.7768441293262516 1.770903395784731 -0.548751073226813\n",
      "0.31134219768442495 0.08800085940519489\n",
      "0.7768441293262516 1.770903395784731 -0.548751073226813\n",
      "0.2996900710171543 0.02286714339219991 -0.06310799404279828\n",
      "0.7458100884530492 1.7318656059854225 -0.5795783107043193\n",
      "0.31571450774989973 0.08312204673010765\n",
      "0.7458100884530492 1.7318656059854225 -0.5795783107043193\n",
      "0.30284751580223623 0.02389298800903644 -0.05871806150888551\n",
      "0.717830847411758 1.6964948585371005 -0.6096085527895703\n",
      "0.3198941383252524 0.07859550874179906\n",
      "0.717830847411758 1.6964948585371005 -0.6096085527895703\n",
      "0.3059756688214495 0.02480717971640021 -0.05425585527295224\n",
      "0.6924297460784722 1.6642380092125122 -0.6389615634510175\n",
      "0.32390188325135394 0.07437926966366488\n",
      "0.6924297460784722 1.6642380092125122 -0.6389615634510175\n",
      "0.30907529766642916 0.025608091467131378 -0.049774560682688054\n",
      "0.6692280789221174 1.6346533879977556 -0.6677384503875651\n",
      "0.32775522034062005 0.0704386732624387\n",
      "0.6692280789221174 1.6346533879977556 -0.6677384503875651\n",
      "0.31214713559810636 0.026295058717372467 -0.04531988745976455\n",
      "0.6479206686396909 1.6073830794823172 -0.6960256715907244\n",
      "0.33146894263625815 0.06674475931873446\n",
      "0.6479206686396909 1.6073830794823172 -0.6960256715907244\n",
      "0.31519188359373806 0.026868311958689273 -0.040930973198115714\n",
      "0.6282584513213262 1.5821337004310625 -0.7238981829210188\n",
      "0.3350557451646524 0.06327306699014174\n",
      "0.6282584513213262 1.5821337004310627 -0.7238981829210188\n",
      "0.31821021223813034 0.027328908761464838 -0.03664112584924743\n",
      "0.6100358784092803 1.5586620002445972 -0.7514216437838771\n",
      "0.3385265930917482 0.06000274884809545\n",
      "0.6100358784092803 1.5586620002445972 -0.7514216437838771\n",
      "0.3212027634703535 0.02767866570238146 -0.032478447238914306\n",
      "0.5930816042258984 1.5367642967619006 -0.7786541516176304\n",
      "0.34189102860518283 0.05691589286619248\n",
      "0.5930816042258984 1.5367642967619006 -0.7786541516176304\n",
      "0.32417015219773854 0.027920090528691866 -0.028466367017208914\n",
      "0.5772514829422093 1.5162686973957633 -0.805647717164777\n",
      "0.3451574521788148 0.05399698827366202\n",
      "0.5772514829422093 1.5162686973957633 -0.805647717164777\n",
      "0.32711296779468146 0.02805631489269108 -0.024624107947045733\n",
      "0.5624232776720668 1.4970287055938536 -0.8324493134490846\n",
      "0.3483332449933767 0.05123250748047179\n",
      "0.5624232776720668 1.4970287055938536 -0.8324493134490846\n",
      "0.33003177548920676 0.028091027968916354 -0.02096709758552404\n",
      "0.5484925313326111 1.4789188342833821 -0.8591016962804261\n",
      "0.3514249942797179 0.04861059648053297\n",
      "0.5484925313326111 1.4789188342833821 -0.8591016962804261\n",
      "0.3329271176510035 0.028028411247107105 -0.01750733734897131\n",
      "0.5353693855540715 1.4618307085406388 -0.8856442221267806\n",
      "0.35443857012049035 0.04612079170323499\n",
      "0.5353693855540715 1.4618307085406388 -0.8856442221267806\n",
      "0.3357995149892265 0.027873074773673366 -0.014253737055991856\n",
      "0.5229760451106147 1.445670283351208 -0.912113287407485\n",
      "0.35737925894094624 0.043753828132783244\n",
      "0.5229760451106147 1.445670283351208 -0.912113287407485\n",
      "0.33864946766397974 0.027629995093268335 -0.011212420960056655\n",
      "0.5112447790952889 1.4303553859819518 -0.9385429792180081\n",
      "0.3602518172267668 0.041501443349355946\n",
      "0.5112447790952889 1.4303553859819518 -0.9385429792180081\n",
      "0.3414774563240002 0.027304455123313694 -0.008387009779703842\n",
      "0.5001162987282411 1.4158139095785536 -0.9649653828796342\n",
      "0.3630605587529757 0.03935624802204394\n",
      "0.5001162987282411 1.4158139095785536 -0.9649653828796342\n",
      "0.34428394306946997 0.02690198617140427 -0.005778882109943152\n",
      "0.4895384497289125 1.4019822631071799 -0.9914109536301594\n",
      "0.36580940769823 0.03731160375558066\n",
      "0.4895384497289125 1.4019822631071799 -0.9914109536301594\n",
      "0.3470693723526077 0.026428312288042256 -0.0033874177885762987\n",
      "0.4794651417713924 1.3888041281492864 -1.0179088047714182\n",
      "0.36850195012518766 0.035361524968766586\n",
      "0.4794651417713924 1.3888041281492864 -1.0179088047714182\n",
      "0.3498341718162519 0.025889297124214637 -0.0012102251654069588\n",
      "0.4698554687592927 1.376229420947273 -1.0444869419446372\n",
      "0.37114147452820745 0.033500597032234826\n",
      "0.4698554687592927 1.376229420947273 -1.0444869419446372\n",
      "0.35257875307553205 0.025290893443952602 0.0007566462323011139\n",
      "0.460672980526686 1.3642134261041319 -1.0711725321269834\n",
      "0.3737310052020401 0.031723901798197646\n",
      "0.460672980526686 1.3642134261041319 -1.0711725321269834\n",
      "0.3553035124496642 0.024639095422919473 0.002518506488907981\n",
      "0.45188507462475896 1.3527160852909346 -1.0979920672107706\n",
      "0.3762733342503677 0.03002696063435858\n",
      "0.45188507462475896 1.3527160852909346 -1.0979920672107706\n",
      "0.3580088316430388 0.023939893841511805 0.004081838659809188\n",
      "0.4434624869661285 1.3417013928142896 -1.1249715432879874\n",
      "0.378771047430866 0.02840568270612098\n",
      "0.4434624869661285 1.3417013928142896 -1.1249715432879874\n",
      "0.36069507838355175 0.023199234264376586 0.005454124004435425\n",
      "0.43537886194257186 1.3311368897581852 -1.1521366213172517\n",
      "0.38122654793924626 0.026856320754194606\n",
      "0.43537886194257186 1.3311368897581852 -1.1521366213172517\n",
      "0.3633626070167905 0.022422978275444854 0.00664367854668095\n",
      "0.4276103893537781 1.3209932210464652 -1.1795127677615513\n",
      "0.38364207332286876 0.02537543299721777\n",
      "0.4276103893537781 1.3209932210464652 -1.1795127677615513\n",
      "0.3660117590629516 0.021616867821856314 0.00765950051744917\n",
      "0.42013549382394494 1.3112437724627763 -1.207125398619341\n",
      "0.3860197145284281 0.023959849545708376\n",
      "0.42013549382394494 1.3112437724627763 -1.207125398619341\n",
      "0.36864286373566785 0.020786492698393923 0.008511128315046218\n",
      "0.4129345698736548 1.3018643509765881 -1.2349999794314304\n",
      "0.3883614301879834 0.022606644887722887\n",
      "0.4129345698736548 1.3018643509765881 -1.2349999794314304\n",
      "0.37125623842712224 0.01993726118814892 0.009208508670007455\n",
      "0.4059897566595867 1.292832884555466 -1.263162289129604\n",
      "0.3906690516163056 0.021313104734661317\n",
      "0.4059897566595867 1.292832884555466 -1.263162289129604\n",
      "0.37385218915933144 0.019074373855471144 0.009761874738863401\n",
      "0.39928473105769696 1.2841292945841887 -1.2916380706052177\n",
      "0.392944327142196 0.020076728810307934\n",
      "0.39928473105769696 1.2841292945841887 -1.2916380706052177\n",
      "0.37643101100743354 0.018202800473306968 0.010181633871880489\n",
      "0.3928045526104427 1.2757351306242322 -1.3204537738268347\n",
      "0.39518888430230364 0.018895176221446715\n",
      "0.3928045526104427 1.2757351306242324 -1.3204537738268347\n",
      "0.378992988490253 0.017327260045177106 0.010478264814000363\n",
      "0.38653550540035014 1.267633497943697 -1.3496362483924784\n",
      "0.39740427074347673 0.01776627096753238\n",
      "0.38653550540035014 1.267633497943697 -1.3496362483924784\n",
      "0.3815383959365246 0.016452203873316418 0.010662224098596993\n",
      "0.38046497139096197 1.2598088747336191 -1.3792129719666752\n",
      "0.3995919544055816 0.01668797972206707\n",
      "0.38046497139096197 1.2598088747336191 -1.3792129719666752\n",
      "0.3840674978229961 0.015581801603183669 0.010743861393450477\n",
      "0.3745813173481381 1.2522469748486045 -1.409212096463402\n",
      "0.40175333067978963 0.01565840022896356\n",
      "0.3745813173481381 1.2522469748486045 -1.409212096463402\n",
      "0.3865805490873586 0.01471993016405138 0.010733343549282123\n",
      "0.36887379535402215 1.2449346286025316 -1.4396626135580384\n",
      "0.40388972931695494 0.01467574631368421\n",
      "0.36887379535402215 1.2449346286025316 -1.4396626135580384\n",
      "0.38907779541820847 0.013870165511902595 0.010640587091067346\n",
      "0.36333245546921483 1.2378596741844075 -1.4705944127614152\n",
      "0.406002419534899 0.013738338378980218\n",
      "0.36333245546921483 1.2378596741844077 -1.4705944127614152\n",
      "0.39155947351905906 0.013035777065586318 0.010475198878624395\n"
     ]
    },
    {
     "name": "stdout",
     "output_type": "stream",
     "text": [
      "0.3579480682148416 1.2310108648243698 -1.5020384046565807\n",
      "0.4080926156586184 0.012844592531957294\n",
      "0.3579480682148416 1.2310108648243698 -1.5020384046565807\n",
      "0.3940258113531509 0.012219724721499677 0.010246424649201159\n",
      "0.3527120560458858 1.224377784411451 -1.5340266215598137\n",
      "0.4101614815532883 0.011993011540805697\n",
      "0.3527120560458858 1.224377784411451 -1.5340266215598137\n",
      "0.3964770283620369 0.011424658313812909 0.00996310513774697\n",
      "0.34761643237750917 1.2179507728988181 -1.5665923269492512\n",
      "0.4122101347788179 0.01118217638357213\n",
      "0.34761643237750917 1.2179507728988181 -1.5665923269492512\n",
      "0.3989133356654966 0.010652919386440274 0.00963363945694054\n",
      "0.34265374728190595 1.2117208591624167 -1.5997701277594951\n",
      "0.4142396501383078 0.010410738515684706\n",
      "0.34265374728190595 1.2117208591624167 -1.5997701277594951\n",
      "0.4013349362382863 0.009906545127810652 0.009265955401925709\n",
      "0.3378170387040635 1.2056797032524174 -1.633596084496078\n",
      "0.4162510636702044 0.00967741291306741\n",
      "0.3378170387040635 1.2056797032524174 -1.633596084496078\n",
      "0.40374202506508716 0.009187274315843881 0.00886748633092863\n",
      "0.3330997897901252 1.1998195342483098 -1.6681078547553743\n",
      "0.41824537267461326 0.00898097091697753\n",
      "0.3330997897901252 1.1998195342483098 -1.6681078547553743\n",
      "0.4061347892751254 0.008496555114612059 0.008445154259860173\n",
      "0.3284958880823651 1.1941331182453467 -1.7033447664287913\n",
      "0.4202235439746128 0.008320235417739269\n",
      "0.3284958880823651 1.1941331182453467 -1.7033447664287913\n",
      "0.40851340825305726 0.007835554556683284 0.008005358795283114\n",
      "0.32399959247870314 1.1886136931910072 -1.7393480166119986\n",
      "0.42218650876815095 0.0076940735657221445\n",
      "0.32399959247870314 1.1886136931910072 -1.7393480166119986\n",
      "0.4108780537292811 0.007205169545145893 0.007553971521719331\n",
      "0.3196054962079069 1.1832549786410849 -1.7761605414286008\n",
      "0.4241351821591432 0.007101396428701687\n",
      "0.3196054962079069 1.1832549786410849 -1.7761605414286008\n",
      "0.4132288898465199 0.006606039203372467 0.007096335448487532\n",
      "0.31530851761984663 1.1780509539684905 -1.8138282603608284\n",
      "0.4260703983349336 0.006541134840091884\n",
      "0.31530851761984663 1.1780509539684905 -1.8138282603608284\n",
      "0.41556607320158573 0.006038558400551314 0.006637269115060008\n",
      "0.311103834657528 1.172996197310078 -1.8523980524964925\n",
      "0.4279930453502915 0.006012272544613574\n",
      "0.311103834657528 1.172996197310078 -1.8523980524964925\n",
      "0.4178897528640663 0.005502892282202762 0.006181074950447898\n",
      "0.30698690200884654 1.1680854678385035 -1.8919201745576946\n",
      "0.42990392728666593 0.005513802906347804\n",
      "0.30698690200884654 1.1680854678385035 -1.8919201745576946\n",
      "0.4202000703676939 0.004998991632926816 0.005731551477277864\n",
      "0.3029534073857006 1.1633138851976867 -1.9324469751122553\n",
      "0.43180383951926765 0.005044748554553732\n",
      "0.3029534073857006 1.1633138851976867 -1.9324469751122553\n",
      "0.42249715967261103 0.004526608902191387 0.005292008951854309\n",
      "0.29899925774860564 1.158676845783845 -1.9740338498534515\n",
      "0.43369354838415813 0.0046041462639252895\n",
      "0.29899925774860564 1.158676845783845 -1.9740338498534515\n",
      "0.42478114710004655 0.0040853147285260846 0.00486528803485527\n",
      "0.29512056052698 1.1541700032363393 -2.016739105563473\n",
      "0.4355737930363248 0.0041910480143291995\n",
      "0.29512056052698 1.1541700032363393 -2.016739105563473\n",
      "0.4270521512322418 0.0036745147980312446 0.0044537810881102695\n",
      "0.29131360570960124 1.149789255219941 -2.060624135286244\n",
      "0.4374452889223736 0.0038045176958274307\n",
      "0.29131360570960124 1.149789255219941 -2.060624135286244\n",
      "0.42931028277770567 0.0032934668817228567 0.004059455702366175\n",
      "0.28757485142134953 1.1455307113641047 -2.1057537162546973\n",
      "0.4393087234045798 0.0034436270527834646\n",
      "0.28757485142134953 1.1455307113641047 -2.1057537162546973\n",
      "0.43155564439718935 0.0029412979005368654 0.0036838800678774698\n",
      "0.28390090963853243 1.141390671359513 -2.1521962534775647\n",
      "0.44116475438238595 0.0031074529016092674\n",
      "0.28390090963853243 1.141390671359513 -2.1521962534775647\n",
      "0.4337883304870021 0.002617020874619803 0.0033282498111078464\n",
      "0.28028853197289183 1.1373656118559563 -2.200023951282969\n",
      "0.4430140116372699 0.0027950752912200847\n",
      "0.28028853197289183 1.1373656118559563 -2.200023951282969\n",
      "0.43600842691320024 0.0023195516206493284 0.002993415932799009\n",
      "0.276734597131027 1.133452166588276 -2.249313074475725\n",
      "0.4448570950048671 0.002505575230242238\n",
      "0.276734597131027 1.133452166588276 -2.249313074475725\n",
      "0.4382160106920819 0.0020477250705961815 0.0026799134984923506\n",
      "0.27323609902028767 1.1296471077679169 -2.3001442264352647\n",
      "0.4466945724391029 0.002238032810482847\n",
      "0.27323609902028767 1.1296471077679169 -2.3001442264352647\n",
      "0.44041114960948485 0.0018003110940657087 0.0023879907485454695\n",
      "0.26979013963459264 1.1259472930535617 -2.3526031629065653\n",
      "0.4485269638055427 0.001991523307418895\n",
      "0.26979013963459264 1.1259472930535617 -2.3526031629065653\n",
      "0.44259390177033414 0.0015760297165107763 0.002117638313185788\n",
      "0.2663939101730774 1.122349716558229 -2.406780236405713\n",
      "0.45035476528592017 0.0017651211795682604\n",
      "0.2663939101730774 1.122349716558229 -2.406780236405713\n",
      "0.4447643150682181 0.0013735656361810883 0.001868618238104321\n",
      "0.2630446858824112 1.118851446521094 -2.46277138107499\n",
      "0.452178428682509 0.0015578959893598175\n",
      "0.2630446858824112 1.118851446521094 -2.46277138107499\n",
      "0.4469224265635347 0.0011915819538409278 0.0016404925476506014\n",
      "0.2597398152461528 1.1154496139064174 -2.5206785176177444\n",
      "0.45399836019693623 0.0013689127439947533\n",
      "0.2597398152461528 1.1154496139064174 -2.5206785176177444\n",
      "0.44906826175419545 0.0010287330402103472 0.0014326510947354132\n",
      "0.25647670935092964 1.1121414004546823 -2.5806099966974085\n",
      "0.45581491863847073 0.001197232613034981\n",
      "0.25647670935092964 1.1121414004546823 -2.5806099966974085\n",
      "0.4512018337235607 0.0008836764784682801 0.0012443384711253802\n",
      "0.25325282962088774 1.1089240392796422 -2.642681025779848\n",
      "0.4576284184693357 0.0010419142079669931\n",
      "0.25325282962088774 1.1089240392796422 -2.642681025779848\n",
      "0.45332314214138336 0.0007550840299391237 0.0010746797750322396\n",
      "0.2500656812508688 1.1057947688797716 -2.707014668233576\n",
      "0.4594391133792796 0.0009020140389249125\n",
      "0.2500656812508688 1.1057947688797716 -2.707014668233576\n",
      "0.455432172092885 0.0006416515837737039 0.0009227050590634844\n",
      "0.24691279976985758 1.102750839517647 -2.7737425469721306\n",
      "0.46124720087804233 0.0007765889319775647\n",
      "0.24691279976985758 1.1027508395176469 -2.7737425469721306\n",
      "0.4575288927042738 0.0005421080629567472 0.0007873723067986328\n",
      "0.24379173824687536 1.0997895090346603 -2.8430054304498444\n",
      "0.46305282244884566 0.0006646991222116868\n",
      "0.24379173824687536 1.0997895090346603 -2.8430054304498444\n",
      "0.4596132555229364 0.0004552232703263394 0.0006675888115681318\n",
      "0.24070005829251206 1.0969080039303742 -2.9149550114652647\n",
      "0.46485604882031084 0.0005654099866380989\n",
      "0.24070005829251206 1.0969080039303742 -2.9149550114652647\n",
      "0.46168519260281904 0.0003798146700362374 0.0005622308571538098\n",
      "0.2376353081846628 1.0941035684592872 -2.989753582279222\n",
      "0.4666569020565149 0.00047779776216226843\n",
      "0.2376353081846628 1.0941035684592872 -2.989753582279222\n",
      "0.46374461423434016 0.00031475311097180794 0.0004701616256307404\n",
      "0.2345950233354316 1.0913733379812083 -3.067578913416396\n",
      "0.4684553029409681 0.0004009491029284678\n",
      "0.2345950233354316 1.0913733379812083 -3.067578913416396\n",
      "0.46579140623537496 0.0002589675086541932 0.00039024728172314604\n",
      "0.2315766919312135 1.0887144546324685 -3.1486225193889243\n",
      "0.47025112089946575 0.00033396989499697924\n",
      "0.2315766919312135 1.0887144546324685 -3.1486225193889243\n",
      "0.467825426707373 0.00021144851301961424 0.0003213712084206394\n",
      "0.22857774433035108 1.0861239896627668 -3.2330939611078118\n",
      "0.47204414171718706 0.0002759870161528823\n",
      "0.22857774433035108 1.0861239896627668 -3.2330939611078118\n",
      "0.46984650212067913 0.00017125119794742587 0.0002624463906324731\n",
      "0.22559552723245183 1.083598953780426 -3.3212230774153966\n",
      "0.47383407243211056 0.00022615344581592862\n",
      "0.22559552723245183 1.0835989537804263 -3.3212230774153966\n",
      "0.47185442256382093 0.00013749681781190793 0.00021242596687199856\n",
      "0.22262728139968774 1.0811362544908194 -3.413264755641975\n",
      "0.4756205230303449 0.00018365207115962048\n",
      "0.22262728139968774 1.0811362544908194 -3.413264755641975\n",
      "0.4738489359311522 0.0001093736836588447 0.00017031198904425988\n",
      "0.2196700924549635 1.078732796064651 -3.5094983816142857\n",
      "0.47740305054685506 0.00014770214696143737\n",
      "0.2196700924549635 1.078732796064651 -3.5094983816142857\n",
      "0.4758297407518442 8.61372187662402e-05 0.00013516244997953275\n",
      "0.21672087272414517 1.076385325354549 -3.6102391423341498\n",
      "0.479181091563531 0.00011756025790717998\n",
      "0.21672087272414517 1.076385325354549 -3.6102391423341498\n",
      "0.47779647726007557 6.710925933980676e-05 0.00010609665591746084\n",
      "0.2137763089639941 1.0740904486619824 -3.7158433986136297\n",
      "0.4809539688421014 9.252521741690723e-05\n",
      "0.2137763089639941 1.0740904486619824 -3.7158433986136297\n",
      "0.4797487161566304 5.167667102832107e-05 8.229903676444384e-05\n"
     ]
    },
    {
     "name": "stdout",
     "output_type": "stream",
     "text": [
      "0.21083278866655672 1.071844699236133 -3.826713127876592\n",
      "0.48272092100854413 7.19420805828253e-05\n",
      "0.21083278866655672 1.071844699236133 -3.826713127876592\n",
      "0.4816859442990636 3.928935595866206e-05 6.302150075991124e-05\n",
      "0.20788633500883483 1.0696444451941083 -3.9433091334525754\n",
      "0.48448106098460375 5.520363441564137e-05\n",
      "0.20788633500883483 1.0696444451941085 -3.9433091334525754\n",
      "0.4836075462408533 2.945772786479422e-05 4.7584451801097006e-05\n",
      "0.2049325080595185 1.06748586986543 -4.0661639990231535\n",
      "0.48623336596640265 4.175233403233863e-05\n",
      "0.2049325080595185 1.06748586986543 -4.0661639990231535\n",
      "0.4855127800592291 2.1749734655040183e-05 3.5376597079483825e-05\n",
      "0.20196628326015864 1.0653649029223764 -4.195901121517824\n",
      "0.48797664455399864 3.108120979968128e-05\n",
      "0.20196628326015864 1.0653649029223764 -4.195901121517824\n",
      "0.48740074517210624 1.578750850491042e-05 2.5853679943954528e-05\n",
      "0.19898186410259974 1.0632772677634237 -4.333249943766419\n",
      "0.48970955637599567 2.273466898638313e-05\n",
      "0.19898186410259974 1.0632772677634237 -4.333249943766419\n",
      "0.48927033866318853 1.1243723147392515e-05 1.853627777504508e-05\n",
      "0.19597249080726492 1.0612182030798345 -4.479089965805649\n",
      "0.4914304815623723 1.6306926916502194e-05\n",
      "0.19597249080726492 1.0612182030798345 -4.479089965805649\n",
      "0.49112019469502766 7.837736581157218e-06 1.300680727935814e-05\n",
      "0.19293010203580607 1.0591824738394926 -4.634484114413257\n",
      "0.49313752078910544 1.1441525504930059e-05\n",
      "0.19293010203580607 1.0591824738394926 -4.634484114413257\n",
      "0.4929485982931887 5.331594956406817e-06 8.905880005422237e-06\n",
      "0.18984489772581817 1.057164137180638 -4.80074161622709\n",
      "0.4948283808267199 7.82912062442754e-06\n",
      "0.18984489772581817 1.0571641371806377 -4.80074161622709\n",
      "0.49475335892746075 3.525969923370602e-06 5.928149007416807e-06\n",
      "0.1867046776609876 1.0551562903287144 -4.979501803465112\n",
      "0.49650024820895633 5.204963237849352e-06\n",
      "0.1867046776609876 1.0551562903287144 -4.979501803465112\n",
      "0.4965316184017277 2.256097369738523e-06 3.817783630833e-06\n",
      "0.18349385198676083 1.053150589656073 -5.172865026819965\n",
      "0.4981495510256489 3.345759474069647e-06\n",
      "0.18349385198676083 1.053150589656073 -5.172865026819965\n",
      "0.4982795459813729 1.3877802713973743e-06 2.363703420594061e-06\n",
      "0.18019184027531965 1.0511365784193207 -5.383584822178266\n",
      "0.4997716228263948 2.066268575967104e-06\n",
      "0.18019184027531965 1.0511365784193207 -5.383584822178266\n",
      "0.499991827833461 8.135124433800026e-07 1.3946943294119693e-06\n",
      "0.17677038695535288 1.049100467693395 -5.6153780617145275\n",
      "0.501360095610847 1.2155468516184656e-06\n",
      "0.17677038695535288 1.049100467693395 -5.6153780617145275\n",
      "0.5016607512387015 4.4877340212531595e-07 7.745208962716911e-07\n",
      "0.17318866189510743 1.0470230315629423 -5.873413025274917\n",
      "0.502905849992941 6.730908119650532e-07\n",
      "0.17318866189510743 1.0470230315629423 -5.873413025274917\n",
      "0.5032744053573394 2.2853745617707252e-07 3.971370822617941e-07\n",
      "0.16938359300842604 1.0448750466497756 -6.165150286673095\n",
      "0.504394750030546 3.448420918582848e-07\n",
      "0.16938359300842604 1.0448750466497756 -6.165150286673095\n",
      "0.5048126655450884 1.0403262819105526e-07 1.8208617248143793e-07\n",
      "0.16524758514725266 1.042607573160726 -6.501535396927823\n",
      "0.5058028107466497 1.593844108559471e-07\n",
      "0.16524758514725266 1.042607573160726 -6.501535396927823\n",
      "0.5062363055719489 3.9777074406899444e-08 7.016657858490154e-08\n",
      "0.16056603159090527 1.0401237664421448 -6.897746198107729\n",
      "0.5070822237945449 6.417002199325051e-08\n",
      "0.16056603159090527 1.0401237664421448 -6.897746198107729\n",
      "0.507445107665862 1.0910740059419898e-08 1.9422654338747858e-08\n",
      "0.15475672033417445 1.03716210137417 -7.363166654340763\n",
      "0.5081035857838953 2.20183923117522e-08\n",
      "0.15475672033417445 1.0371621013741703 -7.363166654340763\n",
      "0.10104133055233061 9.250661954250077e-31 1.7919373204931174e-30\n",
      "0.08353585347028797 1.0105619017207719 -7.132373368376604\n",
      "0.1010561901720772 7.450570918063751e-09\n",
      "0.08353585347028797 1.0105619017207719 -7.132373368376604\n",
      "0.11193574700670107 2.369583438789655e-38 4.6199562058819153e-38\n",
      "0.07471494689942251 1.0084335794914283 -7.261455962672793\n",
      "0.1119462671782826 6.131315355718535e-09\n",
      "0.07471494689942251 1.0084335794914283 -7.261455962672793\n",
      "0.12186098316426974 3.769964569525628e-46 7.382508066960222e-46\n",
      "0.06807644483815484 1.006992828711279 -7.241915202953331\n",
      "0.12186886924274894 6.981963572471039e-09\n",
      "0.06807644483815484 1.006992828711279 -7.241915202953331\n",
      "0.13103725430653876 3.8556041721531565e-54 7.574027890533419e-54\n",
      "0.06284477251529218 1.0059540075125524 -7.24509474307858\n",
      "0.13104340485284924 7.45281645274949e-09\n",
      "0.06284477251529218 1.0059540075125524 -7.24509474307858\n",
      "0.13961219558388005 2.591322766151054e-62 5.102539500512294e-62\n",
      "0.05858250441959545 1.0051703079746832 -7.272846606823417\n",
      "0.13961714008495837 7.448899774646299e-09\n",
      "0.05858250441959545 1.0051703079746832 -7.272846606823417\n",
      "0.14769050079024418 1.1615664766516876e-70 2.2914607852625456e-70\n",
      "0.05502170413507847 1.0045585291186327 -7.297119078800874\n",
      "0.14769457203424435 7.45153002836003e-09\n",
      "0.05502170413507847 1.0045585291186327 -7.297119078800874\n",
      "0.15534960704261383 3.5078407583316066e-79 6.930297726243766e-79\n",
      "0.051987863801871724 1.0040679913391362 -7.319291930248991\n",
      "0.15535301926951853 7.447795920511797e-09\n",
      "0.051987863801871724 1.0040679913391362 -7.319291930248991\n",
      "0.16264870237269527 7.185990979086669e-88 1.4214303586357461e-87\n",
      "0.049361793254985194 1.0036661594008272 -7.338695504364359\n",
      "0.16265160681555962 7.45697785929074e-09\n",
      "0.049361793254985194 1.0036661594008272 -7.338695504364359\n",
      "0.16963423302907654 1.0031091618754188e-96 1.986214520133473e-96\n",
      "0.04705893753014619 1.003331100737538 -7.358110370280758\n",
      "0.16963673107678637 7.437201096847364e-09\n",
      "0.04705893753014619 1.003331100737538 -7.358110370280758\n",
      "0.1763434419842468 9.568047683403289e-106 1.8961495131308436e-105\n",
      "0.04501742265615899 1.0030475899112314 -7.374344108385362\n",
      "0.17634561081557176 7.447672077235689e-09\n",
      "0.04501742265615899 1.0030475899112314 -7.374344108385362\n",
      "0.18280673609594286 6.244722366265928e-115 1.238455366513604e-114\n",
      "0.043190786946242544 1.0028047106402591 -7.389959226826529\n",
      "0.18280863970904157 7.447962652445341e-09\n",
      "0.043190786946242544 1.0028047106402591 -7.389959226826529\n",
      "0.18904932362068966 2.7895671793926573e-124 5.535786406946295e-124\n",
      "0.04154337090928069 1.0025944071207666 -7.404090861691574\n",
      "0.18905101441461342 7.455695290337306e-09\n",
      "0.04154337090928069 1.0025944071207666 -7.404090861691574\n",
      "0.19509237947237415 8.523432806380245e-134 1.6923788853657392e-133\n",
      "0.04004728827256163 1.0024105094126161 -7.419038266754814\n",
      "0.19509388079853401 7.43370600158351e-09\n",
      "0.04004728827256163 1.0024105094126161 -7.419038266754814\n",
      "0.20095389473366004 1.7788027325616564e-143 3.533644026383318e-143\n",
      "0.03868037285691453 1.0022484748147216 -7.431822364544289\n",
      "0.20095524354634653 7.434931613286644e-09\n",
      "0.03868037285691453 1.0022484748147216 -7.431822364544289\n",
      "0.20664930909061716 2.5302553457777217e-153 5.02860443525072e-153\n",
      "0.03742475417927497 1.0021045859769087 -7.443135306360657\n",
      "0.2066505189489058 7.449055222670586e-09\n",
      "0.03742475417927497 1.0021045859769087 -7.443135306360657\n",
      "0.21219199036719458 2.4465390895499752e-163 4.864109271129594e-163\n",
      "0.036265841398304015 1.0019760476999362 -7.455439682513035\n",
      "0.21219308533012535 7.435180995412981e-09\n",
      "0.036265841398304015 1.0019760476999362 -7.455439682513035\n",
      "0.217593604050256 1.6028210523075508e-173 3.187771509887876e-173\n",
      "0.03519158843532426 1.0018605333794735 -7.468776930405358\n",
      "0.2175945991272077 7.393859286767679e-09\n",
      "0.03519158843532426 1.0018605333794735 -7.468776930405358\n",
      "0.2228644021629444 7.088305385667012e-184 1.4102007316016098e-183\n",
      "0.03419194936752901 1.0017562359403926 -7.473750552234152\n",
      "0.22286532205295057 7.486726103745024e-09\n",
      "0.03419194936752901 1.0017562359403926 -7.473750552234152\n",
      "0.22801345201120754 2.107193585452684e-194 4.1934040032828447e-194\n",
      "0.033258471602900394 1.0016614866402018 -7.485913689244769\n",
      "0.2280142874862346 7.448149267600056e-09\n",
      "0.033258471602900394 1.0016614866402018 -7.485913689244769\n",
      "0.2330488194268616 4.19144153332035e-205 8.343311812588247e-205\n",
      "0.03238398284340486 1.0015751763310528 -7.492879745558886\n",
      "0.23304959348646007 7.491496900321686e-09\n",
      "0.03238398284340486 1.001575176331053 -7.492879745558886\n",
      "0.23797771710450336 5.5505054085720564e-216 1.1051234640624136e-215\n",
      "0.031562353950611605 1.0014961452738371 -7.504349972620848\n",
      "0.23797842651355328 7.45053769087694e-09\n",
      "0.031562353950611605 1.0014961452738371 -7.504349972620848\n",
      "0.2428066258307553 4.866897312130795e-227 9.692263955617367e-227\n",
      "0.0307883100010192 1.001423543455152 -7.514602090276568\n",
      "0.24280727361486495 7.4243699144098184e-09\n",
      "0.0307883100010192 1.001423543455152 -7.514602090276568\n",
      "0.24754139442524897 2.8092762991182772e-238 5.595705336456295e-238\n",
      "0.03005728313791092 1.0013567006284192 -7.521027761764811\n",
      "0.2475420016081196 7.457978663076672e-09\n",
      "0.03005728313791092 1.0013567006284192 -7.521027761764811\n",
      "0.2521873227915498 1.060879415468598e-249 2.1135236978919516e-249\n",
      "0.029365295826874294 1.0012949191365312 -7.522383809497589\n",
      "0.2521878952140468 7.57426381127456e-09\n",
      "0.029365295826874294 1.0012949191365312 -7.522383809497589\n",
      "0.2567492314410307 2.6038125541312516e-261 5.188306603429216e-261\n"
     ]
    },
    {
     "name": "stdout",
     "output_type": "stream",
     "text": [
      "0.028708865919359224 1.001237538719289 -7.545877955255072\n",
      "0.2567497450000936 7.30519924705535e-09\n",
      "0.028708865919359224 1.001237538719289 -7.545877955255072\n",
      "0.2612315200888704 4.1248192428785265e-273 8.220351177155134e-273\n",
      "0.028084928293945554 1.0011842819338956 -7.553060161665011\n",
      "0.2612319990121139 7.3108220342817134e-09\n",
      "0.028084928293945554 1.0011842819338956 -7.553060161665011\n",
      "0.2656382173509744 4.186652832838908e-285 8.344824008195567e-285\n",
      "0.027490774751480634 1.0011347037365248 -7.548588233642325\n",
      "0.26563867660483736 7.511091875663797e-09\n",
      "0.027490774751480634 1.0011347037365248 -7.548588233642325\n",
      "0.2699730231399549 2.7017520356367582e-297 5.385874338483617e-297\n",
      "0.026924001552297263 1.0010883778865114 -7.549630615308261\n",
      "0.2699734586738544 7.615360290586595e-09\n",
      "0.026924001552297263 1.0010883778865114 -7.549630615308261\n",
      "0.27423934502981206 1.09956827950294e-309 2.192247325572157e-309\n",
      "0.026382466307647817 1.0010449737441132 -7.563213437555031\n",
      "0.2742397466049276 7.497508406918242e-09\n",
      "0.026382466307647817 1.0010449737441132 -7.563213437555031\n",
      "0.2784403296059762 0.0 0.0\n",
      "0.025864252122586237 1.001004301536672 -7.5665441647674045\n",
      "0.27844070920259373 7.554201526440905e-09\n",
      "0.025864252122586237 1.001004301536672 -7.5665441647674045\n",
      "0.2825788896208626 0.0 0.0\n",
      "0.02536763904659367 1.0009660331032315 -7.580061640443905\n",
      "0.28257923471777135 7.431536312126364e-09\n",
      "0.02536763904659367 1.0009660331032315 -7.580061640443905\n",
      "0.28665772762110336 0.0 0.0\n",
      "0.024891077117270243 1.0009300689006053 -7.585764022666812\n",
      "0.2866580573579385 7.440465901526399e-09\n",
      "0.024891077117270243 1.0009300689006053 -7.585764022666812\n",
      "0.2906793565911037 0.0 0.0\n",
      "0.02443316700095938 1.0008961220573243 -7.598432806957975\n",
      "0.29067966233975434 7.3279389089170375e-09\n",
      "0.02443316700095938 1.0008961220573243 -7.598432806957975\n",
      "0.29464611806089286 0.0 0.0\n",
      "0.02399264007088224 1.0008640780230647 -7.604167607294808\n",
      "0.2946464065599134 7.3304990468166405e-09\n",
      "0.02399264007088224 1.0008640780230647 -7.604167607294808\n",
      "0.29856019804886863 0.0 0.0\n",
      "0.023568343887108604 1.000833777899246 -7.6047784381877435\n",
      "0.2985604737343204 7.417437113783469e-09\n",
      "0.023568343887108604 1.000833777899246 -7.6047784381877435\n",
      "0.3024236411476846 0.0 0.0\n",
      "0.02315922864268778 1.0008050560111192 -7.604703942171492\n",
      "0.3024238992954648 7.51470898069521e-09\n",
      "0.02315922864268778 1.0008050560111192 -7.604703942171492\n",
      "0.30623836301093393 0.0 0.0\n",
      "0.022764335263754296 1.0007778130731189 -7.622174125140395\n",
      "0.30623860543902054 7.309468742295234e-09\n",
      "0.022764335263754296 1.0007778130731189 -7.622174125140395\n",
      "0.31000616145711546 0.0 0.0\n",
      "0.02238278575293641 1.00075194607917 -7.624799696277825\n",
      "0.310006392032859 7.354801439182449e-09\n",
      "0.02238278575293641 1.00075194607917 -7.624799696277825\n",
      "0.31372872637351845 0.0 0.0\n",
      "0.022013774600175902 1.0007273276824022 -7.6393414072724815\n",
      "0.31372894019905206 7.198022090345148e-09\n",
      "0.022013774600175902 1.0007273276824022 -7.6393414072724815\n",
      "0.31740764857484816 0.0 0.0\n",
      "0.021656560787948198 1.000703888899183 -7.653668442354505\n",
      "0.31740784714748255 7.0461067262846714e-09\n",
      "0.021656560787948198 1.000703888899183 -7.653668442354505\n",
      "0.32104442774833997 0.0 0.0\n",
      "0.02131046150101464 1.0006815480522038 -7.666800459349115\n",
      "0.32104461256804834 6.914566011805358e-09\n",
      "0.02131046150101464 1.0006815480522038 -7.666800459349115\n",
      "0.3246404795979125 0.0 0.0\n",
      "0.02097484596145921 1.000660276976872 -7.631500757558771\n",
      "0.3246406671650648 7.584067062964322e-09\n",
      "0.02097484596145921 1.000660276976872 -7.631500757558771\n",
      "0.3281971422839007 0.0 0.0\n",
      "0.020649131300329738 1.0006399003579973 -7.656325545944963\n",
      "0.32819731436536415 7.2411822297105875e-09\n",
      "0.020649131300329738 1.0006399003579973 -7.656325545944963\n",
      "0.33171568224142756 0.0 0.0\n",
      "0.020332776306502043 1.0006204350332788 -7.6602289232377725\n",
      "0.33171584612492816 7.25332763473461e-09\n",
      "0.020332776306502043 1.0006204350332788 -7.6602289232377725\n",
      "0.33519729944916493 0.0 0.0\n",
      "0.0200252788512735 1.0006018022085061 -7.664722840357773\n",
      "0.3351974552821631 7.254005367262412e-09\n",
      "0.0200252788512735 1.0006018022085061 -7.664722840357773\n",
      "0.3386431322106174 0.0 0.0\n",
      "0.019726171695411392 1.0005839496013127 -7.670048013966273\n",
      "0.3386432800900596 7.239264556837632e-09\n",
      "0.019726171695411392 1.0005839496013127 -7.670048013966273\n",
      "0.3420542615019531 0.0 0.0\n",
      "0.019435019413000194 1.000566829339265 -7.676119306579655\n",
      "0.34205440154920846 7.210674257105525e-09\n",
      "0.019435019413000194 1.000566829339265 -7.676119306579655\n",
      "0.3454317149334472 0.0 0.0\n",
      "0.019151415545255204 1.0005503976181804 -7.682600758732841\n",
      "0.34543184739755095 7.174004033416325e-09\n",
      "0.019151415545255204 1.0005503976181804 -7.682600758732841\n",
      "0.3487764703656953 0.0 0.0\n",
      "0.018874979943039324 1.0005346350400912 -7.657803503478879\n",
      "0.34877660294835344 7.669090096519014e-09\n",
      "0.018874979943039324 1.0005346350400912 -7.657803503478879\n",
      "0.35208945921665813 0.0 0.0\n",
      "0.0186053571319262 1.0005194215341084 -7.731008085864131\n",
      "0.3520895708430629 6.541013948751875e-09\n",
      "0.0186053571319262 1.0005194215341084 -7.731008085864131\n",
      "0.35537156949124293 0.0 0.0\n",
      "0.018342212712933015 1.0005048294789771 -7.732235544359787\n",
      "0.3553716765868732 6.583354883269964e-09\n",
      "0.018342212712933015 1.0005048294789771 -7.732235544359787\n",
      "0.3586236485613336 0.0 0.0\n",
      "0.018085233301139533 1.0004907805992629 -7.732565464761886\n",
      "0.35862375154791315 6.638555411298474e-09\n",
      "0.018085233301139533 1.0004907805992629 -7.732565464761886\n",
      "0.3618465057209498 0.0 0.0\n",
      "0.017834123800587062 1.0004772447070485 -7.732159460087303\n",
      "0.3618466049718683 6.7044791130104465e-09\n",
      "0.017834123800587062 1.0004772447070485 -7.732159460087303\n",
      "0.3650409145383486 0.0 0.0\n",
      "0.017588606118377093 1.0004641937366725 -7.73085621609592\n",
      "0.36504101038282505 6.783993790580259e-09\n",
      "0.017588606118377093 1.0004641937366725 -7.73085621609592\n",
      "0.3682076150244498 0.0 0.0\n",
      "0.01734841777759566 1.0004516015600882 -7.729093278068093\n",
      "0.36820770775172496 6.870678030118124e-09\n",
      "0.01734841777759566 1.0004516015600882 -7.729093278068093\n",
      "0.3713473156347987 0.0 0.0\n",
      "0.017113310652716356 1.0004394438429347 -7.726578056951719\n",
      "0.37134740550654527 6.9695114677837085e-09\n",
      "0.017113310652716356 1.0004394438429347 -7.726578056951719\n",
      "0.37446069512041485 0.0 0.0\n",
      "0.01688304981400755 1.0004276978458033 -7.72348137940709\n",
      "0.3744607823650965 7.078234733648325e-09\n",
      "0.01688304981400755 1.0004276978458033 -7.72348137940709\n",
      "0.3775484042412187 0.0 0.0\n",
      "0.016657412467635607 1.00041634234194 -7.7198738991214455\n",
      "0.3775484890679278 7.1961273002912615e-09\n",
      "0.016657412467635607 1.00041634234194 -7.7198738991214455\n",
      "0.38061106735429084 0.0 0.0\n",
      "0.016436186981571822 1.000405357449765 -7.715793417915293\n",
      "0.38061114994972794 7.322984060200856e-09\n",
      "0.016436186981571822 1.000405357449765 -7.715793417915293\n",
      "0.3836492838879448 0.0 0.0\n",
      "0.016219171986615252 1.0003947245396578 -7.711118438383292\n",
      "0.3836493644197941 7.461326499739266e-09\n",
      "0.016219171986615252 1.0003947245396578 -7.711118438383292\n",
      "0.38666362971146523 0.0 0.0\n",
      "0.016006175544168562 1.0003844261321735 -7.705828114816311\n",
      "0.38666370833125013 7.612114231975516e-09\n",
      "0.016006175544168562 1.0003844261321735 -7.705828114816311\n",
      "0.38965465840937735 0.0 0.0\n",
      "0.015797014372670382 1.0003744458102672 -7.699946618734952\n",
      "0.3896547352567087 7.775589768212989e-09\n",
      "0.015797014372670382 1.0003744458102672 -7.699946618734952\n",
      "0.39262290246822945 0.0 0.0\n",
      "0.01559151312559569 1.0003647681143637 -7.693213679094364\n",
      "0.3926229776666223 7.957232235694892e-09\n",
      "0.01559151312559569 1.0003647681143637 -7.693213679094364\n",
      "0.39556887438309385 0.0 0.0\n",
      "0.015389503713822592 1.0003553785096246 -7.686370193699819\n",
      "0.39556894805268566 8.144266918130035e-09\n",
      "0.015389503713822592 1.0003553785096246 -7.686370193699819\n",
      "0.39849306769028775 0.0 0.0\n",
      "0.015190824667020618 1.0003462632725306 -7.679172033501069\n",
      "0.3984931399435447 8.341589539477826e-09\n",
      "0.015190824667020618 1.0003462632725306 -7.679172033501069\n",
      "0.4013959579322092 0.0 0.0\n",
      "0.01499532052753166 1.0003374094131077 -7.6715706228881135\n",
      "0.4013960288638721 8.550715340036802e-09\n",
      "0.01499532052753166 1.0003374094131077 -7.6715706228881135\n",
      "0.4042780035596129 0.0 0.0\n",
      "0.014802841270913877 1.000328804666264 -7.663492151064528\n",
      "0.40427807325654286 8.77380617775473e-09\n",
      "0.014802841270913877 1.0003288046662642 -7.663492151064528\n",
      "0.40713964677617404 0.0 0.0\n",
      "0.014613241938833049 1.0003204061280226 -7.744416983940151\n",
      "0.40713970258432197 7.333756246118683e-09\n",
      "0.014613241938833049 1.0003204061280226 -7.744416983940151\n",
      "0.40998131432972473 0.0 0.0\n",
      "0.014426381627927904 1.0003122182512036 -7.927199050665454\n",
      "0.4099813496636573 4.848027226332575e-09\n",
      "0.014426381627927904 1.0003122182512036 -7.927199050665454\n",
      "0.41280341825416406 0.0 0.0\n",
      "0.014242122930429896 1.000304294963794 -7.9193201349127715\n",
      "0.4128034529666532 4.9707644817427356e-09\n",
      "0.014242122930429896 1.000304294963794 -7.9193201349127715\n",
      "0.4156063565656674 0.0 0.0\n",
      "0.014060332408773102 1.0002965776938508 -7.910728722444681\n",
      "0.41560639072073435 5.104503366512581e-09\n",
      "0.014060332408773102 1.0002965776938508 -7.910728722444681\n",
      "0.41839051391650967 0.0 0.0\n",
      "0.013880879080275651 1.0002890569191183 -7.901539222506725\n",
      "0.4183905475643908 5.248589916240559e-09\n",
      "0.013880879080275651 1.0002890569191183 -7.901539222506725\n",
      "0.4211562622095022 0.0 0.0\n"
     ]
    },
    {
     "name": "stdout",
     "output_type": "stream",
     "text": [
      "0.013703634177599244 1.0002817235779522 -7.89186239155191\n",
      "0.42115629540176797 5.402327460896096e-09\n",
      "0.013703634177599244 1.0002817235779522 -7.89186239155191\n",
      "0.4239039611757948 0.0 0.0\n",
      "0.013528470599017862 1.0002745689779753 -7.881568802081339\n",
      "0.4239039939579615 5.5679933301038075e-09\n",
      "0.013528470599017862 1.0002745689779753 -7.881568802081339\n",
      "0.42663395891851974 0.0 0.0\n",
      "0.013355262334688336 1.000267584780171 -7.870920130331215\n",
      "0.42663399133080915 5.7429538168704676e-09\n",
      "0.013355262334688336 1.000267584780171 -7.870920130331215\n",
      "0.4293465924245564 0.0 0.0\n",
      "0.01318388385976086 1.0002607629705336 -7.859661684354825\n",
      "0.42934662450531047 5.931251894631317e-09\n",
      "0.01318388385976086 1.0002607629705336 -7.859661684354825\n",
      "0.4320421880464502 0.0 0.0\n",
      "0.01301420948284202 1.0002540958234931 -7.847982497666755\n",
      "0.4320422198344637 6.131174702545085e-09\n",
      "0.01301420948284202 1.0002540958234931 -7.847982497666755\n",
      "0.4347210619563414 0.0 0.0\n",
      "0.012846112636124013 1.0002475758459148 -7.835778619602779\n",
      "0.4347210934835205 6.345006829433568e-09\n",
      "0.012846112636124013 1.0002475758459148 -7.835778619602779\n",
      "0.4373835205735543 0.0 0.0\n",
      "0.012679465089808798 1.0002411957861224 -7.823127073473739\n",
      "0.4373835518760942 6.572572321507383e-09\n",
      "0.012679465089808798 1.0002411957861221 -7.823127073473739\n",
      "0.4400298609673054 0.0 0.0\n",
      "0.012514136076576301 1.0002349477882968 -7.814695016410347\n",
      "0.44002989174047646 6.741975394776557e-09\n",
      "0.012514136076576301 1.0002349477882968 -7.814695016410347\n",
      "0.442660371235806 0.0 0.0\n",
      "0.012349991299522925 1.000228821867988 -7.830979899990976\n",
      "0.4426603998197585 6.5326707783147205e-09\n",
      "0.012349991299522925 1.000228821867988 -7.830979899990976\n",
      "0.4452753308628231 0.0 0.0\n",
      "0.01218689170570107 1.000222815250233 -7.847822517026911\n",
      "0.4452753573730511 6.321296245151552e-09\n",
      "0.01218689170570107 1.000222815250233 -7.847822517026911\n",
      "0.44787501105255445 0.0 0.0\n",
      "0.012024692208683066 1.0002169212478536 -7.864587640794339\n",
      "0.447875035641968 6.117432907277692e-09\n",
      "0.012024692208683066 1.0002169212478536 -7.864587640794339\n",
      "0.45045967504341855 0.0 0.0\n",
      "0.011863240051309037 1.000211133152865 -7.8806589434398395\n",
      "0.45045969788593615 5.929212257838739e-09\n",
      "0.011863240051309037 1.000211133152865 -7.8806589434398395\n",
      "0.45302957840106883 0.0 0.0\n",
      "0.011702372869408211 1.0002054441944974 -7.895477211286097\n",
      "0.45302959967972367 5.763009921202622e-09\n",
      "0.011702372869408211 1.0002054441944976 -7.895477211286097\n",
      "0.4555849692905718 0.0 0.0\n",
      "0.011541916330676158 1.0001998474767673 -7.908658054753567\n",
      "0.45558498918493334 5.622265514732357e-09\n",
      "0.011541916330676158 1.0001998474767673 -7.908658054753567\n",
      "0.4581260887272117 0.0 0.0\n",
      "0.011381681214804963 1.0001943359170895 -7.91993922598587\n",
      "0.45812610740594073 5.508658068056152e-09\n",
      "0.011381681214804963 1.0001943359170895 -7.91993922598587\n",
      "0.46065317080472173 0.0 0.0\n",
      "0.0112214597501624 1.0001889021628947 -7.9292319104082996\n",
      "0.4606531884206189 5.421783494041533e-09\n",
      "0.0112214597501624 1.0001889021628947 -7.9292319104082996\n",
      "0.46316644289882664 0.0 0.0\n",
      "0.011061020946795898 1.0001835384977595 -7.936369907622561\n",
      "0.46316645959166125 5.362498634498284e-09\n",
      "0.011061020946795898 1.0001835384977595 -7.936369907622561\n",
      "0.4656661258426294 0.0 0.0\n",
      "0.010900104552972587 1.0001782366886791 -7.941379046434517\n",
      "0.46566614173661 5.329612272452789e-09\n",
      "0.010900104552972587 1.0001782366886791 -7.941379046434517\n",
      "0.46815243406832824 0.0 0.0\n",
      "0.010738413087769199 1.0001729878150238 -7.944259640021228\n",
      "0.46815244927530575 5.3226469423096885e-09\n",
      "0.010738413087769199 1.0001729878150238 -7.944259640021228\n",
      "0.47062557570656693 0.0 0.0\n",
      "0.010575601128249611 1.0001677820182977 -7.944854523108879\n",
      "0.47062559032651435 5.343440959801525e-09\n",
      "0.010575601128249611 1.0001677820182977 -7.944854523108879\n",
      "0.4730857526295565 0.0 0.0\n",
      "0.010411260581788479 1.0001626081650472 -7.943388927878873\n",
      "0.4730857667494325 5.389530750651039e-09\n",
      "0.010411260581788479 1.0001626081650474 -7.943388927878873\n",
      "0.4755331604154339 0.0 0.0\n",
      "0.010244899919636346 1.0001574534076165 -7.93962506489785\n",
      "0.47553317412196267 5.464566994108927e-09\n",
      "0.010244899919636346 1.0001574534076165 -7.93962506489785\n",
      "0.47796798819615327 0.0 0.0\n",
      "0.010075914037914115 1.0001523013279552 -7.944276603392428\n",
      "0.47796800102632275 5.43403234412506e-09\n",
      "0.010075914037914115 1.0001523013279552 -7.944276603392428\n",
      "0.48039041832328555 0.0 0.0\n",
      "0.009903538955961879 1.0001471296281887 -7.988191534217807\n",
      "0.48039042808145477 4.936314382886208e-09\n",
      "0.009903538955961879 1.0001471296281887 -7.988191534217807\n",
      "0.4828006257318423 0.0 0.0\n",
      "0.009726780629308327 1.0001419238056688 -7.9444043769724395\n",
      "0.4828006346505453 5.487360027582938e-09\n",
      "0.009726780629308327 1.0001419238056688 -7.9444043769724395\n",
      "0.48519877676914996 0.0 0.0\n",
      "0.00954429805293904 1.0001366560290808 -7.718768153377095\n",
      "0.4851987888565625 9.27153313481352e-09\n",
      "0.00954429805293904 1.0001366560290805 -7.718768153377095\n",
      "0.4875850269993017 0.0 0.0\n",
      "0.009354197658612593 1.0001312571626284 -7.849722595401002\n",
      "0.4875850339457356 6.891722332588072e-09\n",
      "0.009354197658612593 1.0001312571626284 -7.849722595401002\n",
      "0.48995951684462136 0.0 0.0\n",
      "0.00915363808180122 1.000125683945928 -7.95234412665342\n",
      "0.4899595208639122 5.467843485781976e-09\n",
      "0.00915363808180122 1.000125683945928 -7.95234412665342\n"
     ]
    },
    {
     "data": {
      "image/png": "[encoded data removed]",
      "text/plain": [
       "<Figure size 432x288 with 1 Axes>"
      ]
     },
     "metadata": {
      "needs_background": "light"
     },
     "output_type": "display_data"
    }
   ],
   "source": [
    "# Compare theory plots\n",
    "dens,gammas,gamma0s,dks = ihp.srs_theory_curve(lpse,disp=True,verbose=False)\n",
    "dens0,gammas0,gamma0s0,dks0 = ihp.srs_theory_curve(lpse,Te=0.01,disp=True)\n",
    "plt.plot(dens,gammas,label='My LD')\n",
    "plt.plot(dens,gamma0s,label='My undamped')\n",
    "plt.plot(dampedx,dampedy,label='True LD')\n",
    "plt.plot(dens0,gammas0,label='My zero T')\n",
    "plt.plot(undampedx,undampedy,label='True zero T')\n",
    "plt.xlabel('Critical density fraction')\n",
    "plt.ylabel(r'$\\gamma/\\omega_0$')\n",
    "plt.legend()\n",
    "plt.grid()\n",
    "plt.show()"
   ]
  },
  {
   "cell_type": "code",
   "execution_count": 574,
   "metadata": {
    "scrolled": true
   },
   "outputs": [
    {
     "data": {
      "image/png": "[encoded data removed]",
      "text/plain": [
       "<Figure size 432x288 with 1 Axes>"
      ]
     },
     "metadata": {
      "needs_background": "light"
     },
     "output_type": "display_data"
    }
   ],
   "source": [
    "plt.plot(dens,dks,label='3.5keV')\n",
    "plt.plot(dens,dks0,label='0.01keV')\n",
    "plt.ylabel(r'$k\\lambda_D$')\n",
    "plt.xlabel('Critical density fraction')\n",
    "plt.ylim(0,1)\n",
    "plt.legend()\n",
    "plt.show()"
   ]
  },
  {
   "cell_type": "code",
   "execution_count": 575,
   "metadata": {},
   "outputs": [
    {
     "name": "stdout",
     "output_type": "stream",
     "text": [
      "499.94717084903965\n",
      "0.14571412428698535 0.14285734966032163\n"
     ]
    },
    {
     "data": {
      "image/png": "[encoded data removed]",
      "text/plain": [
       "<Figure size 432x288 with 1 Axes>"
      ]
     },
     "metadata": {
      "needs_background": "light"
     },
     "output_type": "display_data"
    }
   ],
   "source": [
    "# Exp density profile\n",
    "xmax = 50; xmin = -50\n",
    "dx = xmin-xmax\n",
    "dr = abs(dx)\n",
    "x = np.linspace(xmin,-30,100)\n",
    "r = abs(x-xmax)\n",
    "nmax = 0.171; nmin = 0.14\n",
    "Ln = dr/np.log(nmax/nmin)\n",
    "print(Ln)\n",
    "n = nmax*np.exp(-r/Ln)\n",
    "print(n[-1],n[50])\n",
    "# test = np.linspace(0.14,0.17,100)\n",
    "plt.plot(x,n,label='exp')\n",
    "# plt.plot(x,test,label='lin')\n",
    "plt.legend()\n",
    "plt.show()"
   ]
  },
  {
   "cell_type": "code",
   "execution_count": 576,
   "metadata": {},
   "outputs": [
    {
     "data": {
      "image/png": "[encoded data removed]",
      "text/plain": [
       "<Figure size 432x288 with 1 Axes>"
      ]
     },
     "metadata": {
      "needs_background": "light"
     },
     "output_type": "display_data"
    }
   ],
   "source": [
    "# LW Frequency curves\n",
    "dens = np.linspace(0.01,0.24,100)\n",
    "T = 4.5\n",
    "freqh = ihp.lw_freq_curve(lpse,dens,T=T)\n",
    "plt.plot(dens,freqh,label = f'{T} keV')\n",
    "T = 0.5\n",
    "freqc = ihp.lw_freq_curve(lpse,dens,T=T)\n",
    "plt.plot(dens,freqc,label = f'{T} keV')\n",
    "plt.xlabel('Critical density fraction')\n",
    "plt.ylabel(r'$\\omega_{ek}/\\omega_0$')\n",
    "\n",
    "# 10/20% bracket around central frequency\n",
    "freqq = freqh\n",
    "den = 0.15; mults = np.linspace(0.80,1.2,5)\n",
    "denid = np.argmin(abs(dens-den))\n",
    "freqcen = freqq[denid]\n",
    "freqbrc = freqcen*mults\n",
    "freqids = np.array([np.argmin(abs(freqq-freqbrc[i])) for i in range(5)])\n",
    "denbrc = dens[freqids]\n",
    "for i in denbrc:\n",
    "  plt.vlines(i,0.1,0.5)\n",
    "plt.legend()\n",
    "plt.show()"
   ]
  },
  {
   "cell_type": "code",
   "execution_count": 140,
   "metadata": {},
   "outputs": [
    {
     "name": "stdout",
     "output_type": "stream",
     "text": [
      "31.750000000000057\n"
     ]
    },
    {
     "data": {
      "image/png": "[encoded data removed]",
      "text/plain": [
       "<Figure size 432x288 with 1 Axes>"
      ]
     },
     "metadata": {
      "needs_background": "light"
     },
     "output_type": "display_data"
    },
    {
     "data": {
      "image/png": "[encoded data removed]",
      "text/plain": [
       "<Figure size 432x288 with 1 Axes>"
      ]
     },
     "metadata": {
      "needs_background": "light"
     },
     "output_type": "display_data"
    },
    {
     "data": {
      "image/png": "[encoded data removed]",
      "text/plain": [
       "<Figure size 432x288 with 1 Axes>"
      ]
     },
     "metadata": {
      "needs_background": "light"
     },
     "output_type": "display_data"
    }
   ],
   "source": [
    "import pyfftw\n",
    "\n",
    "k = 10\n",
    "N = 128\n",
    "wave = lambda x,k: np.exp(2*np.pi*1j*k*x)\n",
    "x = np.linspace(-1,1,N)\n",
    "dx = x[1]-x[0]\n",
    "kr = (np.arange(N)-N/2)/(N*dx)\n",
    "y = wave(x,10) + wave(x,5)\n",
    "nyq = 0.5/dx\n",
    "print(nyq)\n",
    "plt.plot(x,y)\n",
    "plt.show()\n",
    "fy = np.fft.fftshift(np.fft.fft(y))*dx\n",
    "plt.plot(kr,np.real(fy))\n",
    "plt.show()\n",
    "P = fy*np.conjugate(fy)\n",
    "plt.plot(kr,P)\n",
    "plt.show()"
   ]
  },
  {
   "cell_type": "code",
   "execution_count": 110,
   "metadata": {},
   "outputs": [
    {
     "data": {
      "image/png": "[encoded data removed]",
      "text/plain": [
       "<Figure size 432x288 with 1 Axes>"
      ]
     },
     "metadata": {
      "needs_background": "light"
     },
     "output_type": "display_data"
    },
    {
     "name": "stdout",
     "output_type": "stream",
     "text": [
      "3.1499999999999937\n",
      "[-3.15      -3.0515625 -2.953125  -2.8546875 -2.75625   -2.6578125\n",
      " -2.559375  -2.4609375 -2.3625    -2.2640625 -2.165625  -2.0671875\n",
      " -1.96875   -1.8703125 -1.771875  -1.6734375 -1.575     -1.4765625\n",
      " -1.378125  -1.2796875 -1.18125   -1.0828125 -0.984375  -0.8859375\n",
      " -0.7875    -0.6890625 -0.590625  -0.4921875 -0.39375   -0.2953125\n",
      " -0.196875  -0.0984375  0.         0.0984375  0.196875   0.2953125\n",
      "  0.39375    0.4921875  0.590625   0.6890625  0.7875     0.8859375\n",
      "  0.984375   1.0828125  1.18125    1.2796875  1.378125   1.4765625\n",
      "  1.575      1.6734375  1.771875   1.8703125  1.96875    2.0671875\n",
      "  2.165625   2.2640625  2.3625     2.4609375  2.559375   2.6578125\n",
      "  2.75625    2.8546875  2.953125   3.0515625]\n",
      "[-3.15      -3.0515625 -2.953125  -2.8546875 -2.75625   -2.6578125\n",
      " -2.559375  -2.4609375 -2.3625    -2.2640625 -2.165625  -2.0671875\n",
      " -1.96875   -1.8703125 -1.771875  -1.6734375 -1.575     -1.4765625\n",
      " -1.378125  -1.2796875 -1.18125   -1.0828125 -0.984375  -0.8859375\n",
      " -0.7875    -0.6890625 -0.590625  -0.4921875 -0.39375   -0.2953125\n",
      " -0.196875  -0.0984375  0.         0.0984375  0.196875   0.2953125\n",
      "  0.39375    0.4921875  0.590625   0.6890625  0.7875     0.8859375\n",
      "  0.984375   1.0828125  1.18125    1.2796875  1.378125   1.4765625\n",
      "  1.575      1.6734375  1.771875   1.8703125  1.96875    2.0671875\n",
      "  2.165625   2.2640625  2.3625     2.4609375  2.559375   2.6578125\n",
      "  2.75625    2.8546875  2.953125   3.0515625]\n"
     ]
    },
    {
     "data": {
      "image/png": "[encoded data removed]",
      "text/plain": [
       "<Figure size 432x288 with 1 Axes>"
      ]
     },
     "metadata": {
      "needs_background": "light"
     },
     "output_type": "display_data"
    }
   ],
   "source": [
    "N = 64\n",
    "t = np.linspace(-5,5,N)\n",
    "sigma = 1\n",
    "gauss = lambda t: np.sqrt(2*np.pi*sigma**2)*np.exp(-t**2/(2*sigma**2))\n",
    "y = gauss(t)\n",
    "plt.plot(t,y)\n",
    "plt.show()\n",
    "anaft = lambda f: np.exp(-2*np.pi**2*sigma**2*f**2)\n",
    "dt = t[1]-t[0]\n",
    "nyq = 1/(2*dt)\n",
    "df = 2*nyq/N\n",
    "print(nyq)\n",
    "numft = np.fft.fftshift(np.fft.fft(y,norm='ortho'))*dt\n",
    "f = np.fft.fftshift(np.fft.fftfreq(N))/dt\n",
    "kr = (np.arange(N)-N/2)/(N*dt)\n",
    "print(f)\n",
    "print(kr)\n",
    "P = numft*np.conjugate(numft)\n",
    "plt.plot(f,np.abs(numft),label='num')\n",
    "plt.plot(f,anaft(f),label='ana')\n",
    "plt.plot(f,P,label='pow')\n",
    "plt.legend()\n",
    "plt.show()"
   ]
  },
  {
   "cell_type": "code",
   "execution_count": null,
   "metadata": {},
   "outputs": [],
   "source": []
  }
 ],
 "metadata": {
  "kernelspec": {
   "display_name": "Python 3",
   "language": "python",
   "name": "python3"
  },
  "language_info": {
   "codemirror_mode": {
    "name": "ipython",
    "version": 3
   },
   "file_extension": ".py",
   "mimetype": "text/x-python",
   "name": "python",
   "nbconvert_exporter": "python",
   "pygments_lexer": "ipython3",
   "version": "3.6.6"
  }
 },
 "nbformat": 4,
 "nbformat_minor": 2
}
