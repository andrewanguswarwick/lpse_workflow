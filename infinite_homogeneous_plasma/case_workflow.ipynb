{
 "cells": [
  {
   "cell_type": "markdown",
   "metadata": {},
   "source": [
    "# Initialisation"
   ]
  },
  {
   "cell_type": "code",
   "execution_count": null,
   "metadata": {},
   "outputs": [],
   "source": [
    "import write_files as wf\n",
    "import ihp\n",
    "import lpse_data as ld\n",
    "import random_srs as rs\n",
    "import matplotlib.pyplot as plt\n",
    "import numpy as np\n",
    "from functools import partial\n",
    "from time import time as stopwatch\n",
    "import copy\n",
    "import scipy.constants as scc\n",
    "from scipy.optimize import bisect\n",
    "\n",
    "# Ipython magic features\n",
    "%load_ext autoreload\n",
    "%autoreload 2\n",
    "  \n",
    "# LPSE class\n",
    "lpse = ld.lpse_case()\n",
    "lpse.dfp = './data/lpse.' # Data file prefix\n",
    "lpse.verbose = False # Show prints\n",
    "lpse.np = 1 # Number of processors\n",
    "lpse.bin = '/home/space/phrfqm/lpse-3.2.11/bin/lpse_cpu' # Binary"
   ]
  },
  {
   "cell_type": "markdown",
   "metadata": {},
   "source": [
    "# Case setup"
   ]
  },
  {
   "cell_type": "code",
   "execution_count": null,
   "metadata": {},
   "outputs": [],
   "source": [
    "jc = wf.job_control()\n",
    "jc.version = '3.2.11' \n",
    "jc.seed = 1 # 0 for random, otherwise fixed seed\n",
    "jc.resources.heartbeatInterval = 0.1 # minutes\n",
    "lpse.add_class(jc)"
   ]
  },
  {
   "cell_type": "code",
   "execution_count": null,
   "metadata": {},
   "outputs": [],
   "source": [
    "gr = wf.gridding()\n",
    "gr.grid.sizes = 1.0 # microns\n",
    "gr.grid.nodes = 10\n",
    "lpse.add_class(gr)"
   ]
  },
  {
   "cell_type": "code",
   "execution_count": null,
   "metadata": {},
   "outputs": [],
   "source": [
    "cm = wf.components()\n",
    "cm.laser.enable = 'true'\n",
    "cm.raman.enable = 'true'\n",
    "cm.lw.enable = 'true'\n",
    "lpse.add_class(cm)"
   ]
  },
  {
   "cell_type": "code",
   "execution_count": null,
   "metadata": {},
   "outputs": [],
   "source": [
    "tc = wf.temporal_control()\n",
    "tc.simulation.samplePeriod = 0.05 # ps\n",
    "tc.simulation.time.end = 0.5 # ps\n",
    "lpse.add_class(tc)"
   ]
  },
  {
   "cell_type": "code",
   "execution_count": null,
   "metadata": {},
   "outputs": [],
   "source": [
    "io = wf.io_control()\n",
    "io.grid.downSampleFactors = 1 # Spatial\n",
    "io.laser.save.E0.z = lpse.dfp + 'E0_z'\n",
    "io.raman.save.E0.z = lpse.dfp + 'E1_z'\n",
    "io.lw.save.pots = lpse.dfp + 'pots'\n",
    "io.raman.save.S0.x = lpse.dfp + 'S1_x'\n",
    "lpse.add_class(io)"
   ]
  },
  {
   "cell_type": "code",
   "execution_count": null,
   "metadata": {},
   "outputs": [],
   "source": [
    "pp = wf.physical_parameters()\n",
    "pp.physical.Z = 1.0\n",
    "pp.physical.Te = 4.5 # keV\n",
    "pp.physical.Ti = 4.5 # keV\n",
    "pp.physical.MiOverMe = 1836.15\n",
    "pp.lw.envelopeDensity = 0.18637267127274915\n",
    "pp.densityProfile.shape = 'linear'\n",
    "pp.densityProfile.geometry = 'cartesian'\n",
    "pp.densityProfile.NminOverNc = 0.18637267127274915\n",
    "pp.densityProfile.NmaxOverNc = 0.18637267127274915\n",
    "pp.densityProfile.NminLocation = '-50 0 0'\n",
    "pp.densityProfile.NmaxLocation = '50 0 0'\n",
    "lpse.add_class(pp)"
   ]
  },
  {
   "cell_type": "code",
   "execution_count": null,
   "metadata": {},
   "outputs": [],
   "source": [
    "lc = wf.light_control()\n",
    "lc.laser.wavelength = 0.351 # microns\n",
    "lc.laser.pumpDepletion.SRS.enable = 'false'\n",
    "lc.laser.evolution.Labc = 0 # microns\n",
    "lc.laser.evolution.Loff = 0 # microns\n",
    "lc.laser.solver = 'static'\n",
    "lc.laser.evolution.solverOrder = 2\n",
    "lc.laser.evolution.dtFraction = 0.95\n",
    "lc.raman.sourceTerm.lw.enable = 'true'\n",
    "lc.raman.evolution.Labc = 0\n",
    "lc.raman.evolution.Loff = 0 \n",
    "lc.raman.solver = 'fd'\n",
    "lc.raman.evolution.solverOrder = 2\n",
    "lc.raman.evolution.dtFraction = 0.95\n",
    "lpse.add_class(lc)"
   ]
  },
  {
   "cell_type": "code",
   "execution_count": null,
   "metadata": {},
   "outputs": [],
   "source": [
    "ls = wf.light_source()\n",
    "ls.laser.nBeams = 1\n",
    "ls.laser.intensity = ['5.0e+15'] # W/cm^2\n",
    "ls.laser.phase = [0] # degrees\n",
    "ls.laser.polarization = [90] # degrees\n",
    "ls.laser.direction = ['1 0 0']\n",
    "ls.laser.frequencyShift = [0]\n",
    "ls.laser.group = [0]\n",
    "ls.laser.evolution.source = ['min.x']\n",
    "ls.laser.evolution.offset = ['0 0 0'] # microns\n",
    "ls.laser.evolution.width = [0] # Half-width at 1/e of sgauss [um]\n",
    "ls.laser.evolution.sgOrder = [4]\n",
    "lpse.add_class(ls)"
   ]
  },
  {
   "cell_type": "code",
   "execution_count": null,
   "metadata": {},
   "outputs": [],
   "source": [
    "lwc = wf.lw_control()\n",
    "lwc.lw.SRS.enable = 'true'\n",
    "lwc.lw.spectral.dt = 0.002 # ps\n",
    "lwc.lw.Labc = 0 # microns\n",
    "lwc.lw.noise.enable = 'true'\n",
    "lwc.lw.noise.isCalculated = 'false'\n",
    "lwc.lw.noise.amplitude = 0.0015\n",
    "lwc.lw.collisionalDampingRate = 0.001\n",
    "lwc.lw.__dict__['collisionalDampingRate.isCalculated'] = 'false'\n",
    "lwc.lw.landauDamping.enable = 'false'\n",
    "lpse.add_class(lwc)"
   ]
  },
  {
   "cell_type": "code",
   "execution_count": null,
   "metadata": {},
   "outputs": [],
   "source": [
    "ins = wf.instrumentation()\n",
    "ins.metrics.enable = 'true'\n",
    "ins.metrics.file = lpse.dfp + 'metrics'\n",
    "ins.metrics.samplePeriod = 0.01 # ps\n",
    "lpse.add_class(ins)"
   ]
  },
  {
   "cell_type": "markdown",
   "metadata": {},
   "source": [
    "# Calculate theoretical SRS growth rate"
   ]
  },
  {
   "cell_type": "code",
   "execution_count": null,
   "metadata": {},
   "outputs": [],
   "source": [
    "gamma, k = ihp.srs_theory(lpse)"
   ]
  },
  {
   "cell_type": "markdown",
   "metadata": {},
   "source": [
    "# Adjust domain for wavelength matching"
   ]
  },
  {
   "cell_type": "code",
   "execution_count": null,
   "metadata": {},
   "outputs": [],
   "source": [
    "cells_per_wvl = 30\n",
    "dsize, maxwvls = ihp.wavelength_matching(lpse,k,tol=1e-5)\n",
    "gr.grid.sizes = dsize\n",
    "gr.grid.nodes = maxwvls*cells_per_wvl+1\n",
    "print(f'Using {gr.grid.nodes-1} cells.')\n",
    "lpse.add_class(gr)"
   ]
  },
  {
   "cell_type": "markdown",
   "metadata": {},
   "source": [
    "# Run case and get LPSE SRS growth rate"
   ]
  },
  {
   "cell_type": "raw",
   "metadata": {},
   "source": [
    "nodes = np.array([[101],[213],[401],[601]])\n",
    "orders = np.array([[2],[4],[6]])\n",
    "func = partial(ihp.srs_convergence,case=copy.deepcopy(lpse),\\\n",
    "                gamma=gamma,option='nodes')\n",
    "errors = lpse.parallel_runs(func,nodes,4)\n",
    "print(nodes)\n",
    "print(errors)"
   ]
  },
  {
   "cell_type": "code",
   "execution_count": null,
   "metadata": {},
   "outputs": [],
   "source": [
    "xdat,ydat,pfit = ihp.srs_growth_error(lpse,gamma)"
   ]
  },
  {
   "cell_type": "code",
   "execution_count": null,
   "metadata": {
    "scrolled": true
   },
   "outputs": [],
   "source": [
    "%matplotlib inline\n",
    "beta = lambda t: pfit[0]*t + pfit[1]\n",
    "plt.plot(xdat,ydat,label='LPSE')\n",
    "plt.plot(xdat,beta(xdat),label='Linear regression')\n",
    "plt.xlabel('Time [s]')\n",
    "plt.ylabel('ln SRS Intensity [ln W/cm^2]')\n",
    "plt.legend()\n",
    "plt.show()"
   ]
  },
  {
   "cell_type": "code",
   "execution_count": null,
   "metadata": {},
   "outputs": [],
   "source": [
    "%matplotlib inline\n",
    "datt = lpse.fdat['E0_z']\n",
    "plt.plot(datt['x'],datt['data'][0])\n",
    "plt.show()"
   ]
  },
  {
   "cell_type": "code",
   "execution_count": null,
   "metadata": {},
   "outputs": [],
   "source": [
    "%matplotlib notebook\n",
    "lpse.plot_field('E1_z')"
   ]
  },
  {
   "cell_type": "code",
   "execution_count": null,
   "metadata": {},
   "outputs": [],
   "source": [
    "%matplotlib notebook\n",
    "lpse.plot_field('pots')"
   ]
  },
  {
   "cell_type": "code",
   "execution_count": null,
   "metadata": {},
   "outputs": [],
   "source": []
  }
 ],
 "metadata": {
  "kernelspec": {
   "display_name": "Python 3",
   "language": "python",
   "name": "python3"
  },
  "language_info": {
   "codemirror_mode": {
    "name": "ipython",
    "version": 3
   },
   "file_extension": ".py",
   "mimetype": "text/x-python",
   "name": "python",
   "nbconvert_exporter": "python",
   "pygments_lexer": "ipython3",
   "version": "3.6.6"
  }
 },
 "nbformat": 4,
 "nbformat_minor": 2
}
