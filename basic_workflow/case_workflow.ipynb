{
 "cells": [
  {
   "cell_type": "code",
   "execution_count": null,
   "metadata": {},
   "outputs": [],
   "source": [
    "# Initialisation\n",
    "import sys; sys.path.insert(0,'..')\n",
    "from lpse_utils.write_files import light_input,std_input\n",
    "from lpse_utils.extract_data import get_metrics,get_fields\n",
    "import os\n",
    "import numpy as np\n",
    "%load_ext autoreload\n",
    "%autoreload 2\n",
    "os.system('> lpse.parms')\n",
    "try:\n",
    "    os.mkdir('data')\n",
    "except:\n",
    "    print('Data directory exists.')"
   ]
  },
  {
   "cell_type": "markdown",
   "metadata": {},
   "source": [
    "LPSE user guide contains additional options to those listed"
   ]
  },
  {
   "cell_type": "markdown",
   "metadata": {},
   "source": [
    "# Job Control"
   ]
  },
  {
   "cell_type": "code",
   "execution_count": null,
   "metadata": {},
   "outputs": [],
   "source": [
    "# Job control file options\n",
    "version = '3.2.11' # LPSE Version\n",
    "seed = 1 # 0 for random, any other integer for repeatable results\n",
    "verbose = 2 # amount of output, value in range [-1,5]\n",
    "heartbeat = 0.1 # minutes to output percentage completion\n",
    "\n",
    "# Write\n",
    "kwords = ['version','seed','verbose','resources.heartbeatInterval']\n",
    "specs = [version,seed,verbose,heartbeat]\n",
    "std_input(kwords,specs)"
   ]
  },
  {
   "cell_type": "markdown",
   "metadata": {},
   "source": [
    "# Gridding"
   ]
  },
  {
   "cell_type": "code",
   "execution_count": null,
   "metadata": {},
   "outputs": [],
   "source": [
    "# Gridding file options\n",
    "aa_range = 0.333 # Fractional range of wavenumbers to be ignored for anti-aliasing\n",
    "auto_aa_range = 'false' # Whether to automatically calculate above\n",
    "grid_size = 100 # grid size in microns\n",
    "grid_nodes = 4000 # number of grid nodes\n",
    "\n",
    "# Write\n",
    "k1 = 'grid.'; k2 = 'antiAliasing.'\n",
    "kwords = [k1+k2+'range',k1+k2+'isAutomatic',k1+'sizes',k1+'nodes']\n",
    "specs = [aa_range,auto_aa_range,grid_size,grid_nodes]\n",
    "std_input(kwords,specs)"
   ]
  },
  {
   "cell_type": "markdown",
   "metadata": {},
   "source": [
    "# Components"
   ]
  },
  {
   "cell_type": "code",
   "execution_count": null,
   "metadata": {},
   "outputs": [],
   "source": [
    "# Components file options\n",
    "laser = 'true' # laser light solver\n",
    "raman = 'true' # raman light solver\n",
    "lw = 'true' # langmuir wave solver\n",
    "iaw = 'false' # ion-acoustic wave solver\n",
    "hpe = 'false' # electron tracker (needs GPU)\n",
    "\n",
    "# Write\n",
    "k1 = '.enable'\n",
    "kwords = ['laser'+k1,'raman'+k1,'lw'+k1,'iaw'+k1,'hpe'+k1]\n",
    "specs = [laser,raman,lw,iaw,hpe]\n",
    "std_input(kwords,specs)"
   ]
  },
  {
   "cell_type": "markdown",
   "metadata": {},
   "source": [
    "# Temporal Control"
   ]
  },
  {
   "cell_type": "code",
   "execution_count": null,
   "metadata": {},
   "outputs": [],
   "source": [
    "# Temporal control file options\n",
    "simtime = 2 # simulation time in ps\n",
    "outtime = 0.05 # simulation interval for writing output [ps]\n",
    "\n",
    "# Write\n",
    "k1 = 'simulation.'\n",
    "kwords = [k1+'time.end',k1+'samplePeriod']\n",
    "specs = [simtime,outtime]\n",
    "std_input(kwords,specs)"
   ]
  },
  {
   "cell_type": "markdown",
   "metadata": {},
   "source": [
    "# I/O Control"
   ]
  },
  {
   "cell_type": "code",
   "execution_count": null,
   "metadata": {},
   "outputs": [],
   "source": [
    "# I/O control file options\n",
    "# Specifying a filename turns on output\n",
    "dsample = 4 # Downsampling rate of output files\n",
    "f_prefix = './data/lpse.'\n",
    "lwpots = f'{f_prefix}pots' # Electric field frames filename\n",
    "E0z = f'{f_prefix}E0_z' # Laser electric field z filename\n",
    "S0x = f'{f_prefix}S0_x' # Laser poynting flux x filename\n",
    "E1z = f'{f_prefix}E1_z' # Raman electric field z filename\n",
    "S1x = f'{f_prefix}S1_x' # Raman poynting flux x filename\n",
    "# can also save other directional components, E^2 light components,\n",
    "# ion/electron concentrations, and simulation restart files\n",
    "\n",
    "# Write\n",
    "k1 = 'laser.'; k2 = 'raman.'; k3 = 'save.'\n",
    "kwords = ['grid.downSampleFactors',f'lw.{k3}pots',f'{k1}{k3}E0.z',\\\n",
    "          f'{k1}{k3}S0.x',f'{k2}{k3}E0.z',f'{k2}{k3}S0.x']\n",
    "specs = [dsample,lwpots,E0z,S0x,E1z,S1x]\n",
    "std_input(kwords,specs)\n",
    "field_fnames = specs[1:]"
   ]
  },
  {
   "cell_type": "markdown",
   "metadata": {},
   "source": [
    "# Physical Parameters"
   ]
  },
  {
   "cell_type": "code",
   "execution_count": null,
   "metadata": {},
   "outputs": [],
   "source": [
    "# Physical parameters file\n",
    "Z = 3.5 # Average ion charge\n",
    "Te = 0.1 # Electron temperature [keV]\n",
    "Ti = 0.1 # Ion temperature [keV]\n",
    "massRatio = 1836.15 # Ion-electron mass ratio\n",
    "n_env = 0.15 # Fraction of critical density used for high frequency electrostatic envelope\n",
    "den_shape = 'exp' # Density profile shape\n",
    "den_geo = 'cartesian' # Density profile geometry\n",
    "nmin = 0.145 # Minimum critical density fraction\n",
    "nmax = 0.155 # Maximum critical density fraction\n",
    "nmin_loc = '-50 0 0' # Location of minimum density\n",
    "nmax_loc = '50 0 0' # Location of maximum density\n",
    "\n",
    "# Write\n",
    "k1 = 'physical.'; k2 = 'densityProfile.'\n",
    "kwords = [f'{k1}Z',f'{k1}Te',f'{k1}Ti',f'{k1}MiOverMe', \\\n",
    "          'lw.envelopeDensity',f'{k2}shape',f'{k2}geometry',\\\n",
    "          f'{k2}NminOverNc',f'{k2}NmaxOverNc',f'{k2}NminLocation',\\\n",
    "          f'{k2}NmaxLocation']\n",
    "specs = [Z,Te,Ti,massRatio,n_env,den_shape,den_geo,\\\n",
    "         nmin,nmax,nmin_loc,nmax_loc]\n",
    "std_input(kwords,specs)"
   ]
  },
  {
   "cell_type": "markdown",
   "metadata": {},
   "source": [
    "# Light Control"
   ]
  },
  {
   "cell_type": "code",
   "execution_count": null,
   "metadata": {},
   "outputs": [],
   "source": [
    "# Laser light control options\n",
    "srs_dep = 'true' # SRS pump depletion\n",
    "tpd_dep = 'false' # TPD pump depletion\n",
    "iaw_pert = 'false' # ion-acoustic wave perturbations\n",
    "solver = 'fd' # Type of solver to use\n",
    "dt_frac = 0.95 # Fraction of CFL condition timestep to use\n",
    "abc_type = 'pml' # Type of absorbing boundary\n",
    "Labc = 3 # Length of absorbing boundary in microns\n",
    "Loff = 1 # Size of gap in micronss between absorbing boundary and injection boundary\n",
    "absorption = 0 # Collisional absorption coefficient in ps^-1\n",
    "wvlen = 0.351 # Wavelength [microns]\n",
    "\n",
    "# Write\n",
    "k1 = 'laser.'; k2 = '.enable'; k3 = 'pumpDepletion.'; k4 = 'evolution.'\n",
    "kwords = [f'{k1}{k3}SRS{k2}',f'{k1}{k3}TPD{k2}',f'{k1}ionAcousticPerturbations{k2}',\\\n",
    "          f'{k1}solver',f'{k1}{k4}dtFraction',f'{k1}{k4}abc.type',\\\n",
    "          f'{k1}{k4}Labc',f'{k1}{k4}Loff',f'{k1}{k4}absorption',\\\n",
    "          f'{k1}wavelength']\n",
    "specs = [srs_dep,tpd_dep,iaw_pert,solver,dt_frac,\\\n",
    "         abc_type,Labc,Loff,absorption,wvlen]\n",
    "std_input(kwords,specs)"
   ]
  },
  {
   "cell_type": "code",
   "execution_count": null,
   "metadata": {},
   "outputs": [],
   "source": [
    "# Raman light control options\n",
    "lw_source = 'true' # LW source term\n",
    "pulse_shape = 'false' # Scale laser power by provided pulse shape\n",
    "iaw_pert = 'false' # ion-acoustic wave perturbations\n",
    "solver = 'fd' # Type of solver to use\n",
    "dt_frac = 0.95 # Fraction of CFL condition timestep to use\n",
    "abc_type = 'pml' # Type of absorbing boundary\n",
    "Labc = 3 # Length of absorbing boundary in microns\n",
    "absorption = 0 # Collisional absorption coefficient in ps^-1\n",
    "\n",
    "# Write\n",
    "k1 = 'raman.'; k2 = '.enable'; k3 = 'evolution.'\n",
    "kwords = [f'{k1}sourceTerm.lw{k2}',f'{k1}pulseShape{k2}',f'{k1}ionAcousticPerturbations{k2}',\\\n",
    "          f'{k1}solver',f'{k1}{k3}dtFraction',f'{k1}{k3}abc.type',\\\n",
    "          f'{k1}{k3}Labc',f'{k1}{k3}absorption']\n",
    "specs = [lw_source,pulse_shape,iaw_pert,solver,dt_frac,\\\n",
    "         abc_type,Labc,absorption]\n",
    "std_input(kwords,specs)"
   ]
  },
  {
   "cell_type": "markdown",
   "metadata": {},
   "source": [
    "# Light Sources"
   ]
  },
  {
   "cell_type": "code",
   "execution_count": null,
   "metadata": {},
   "outputs": [],
   "source": [
    "# Laser light file options\n",
    "beams = 1 # Number of beamlets\n",
    "inten = ['2e+14'] # Intensities [W/cm^2]\n",
    "phase = [0] # Phases [degrees]\n",
    "polar = [90] # Polarisations [degrees]\n",
    "fshift = [0] # Frequency shifts from envelope frequency\n",
    "group = [0] # Beamlet groups\n",
    "direc = ['1 0 0'] # Direction (converted to unit vector internally)\n",
    "source = ['min.x'] # Boundary source\n",
    "offset = ['0 0 0'] # Offset from boundary centre [microns]\n",
    "width = [10] # Half-width at 1/e of super gaussian [microns]\n",
    "sgord = [4] # Order of super gaussian\n",
    "\n",
    "# Write\n",
    "specs = [inten,phase,polar,fshift,group,\\\n",
    "        direc,source,offset,width,sgord]\n",
    "light_input('laser',beams,specs)"
   ]
  },
  {
   "cell_type": "code",
   "execution_count": null,
   "metadata": {},
   "outputs": [],
   "source": [
    "# Raman light file options, same as laser light file\n",
    "beams = 1\n",
    "inten = ['1e+12']\n",
    "phase = [0]\n",
    "polar = [90]\n",
    "fshift = [0]\n",
    "group = [0]\n",
    "direc = ['-1 0 0']\n",
    "source = ['max.x']\n",
    "offset = ['0 0 0']\n",
    "width = [10]\n",
    "sgord = [4]\n",
    "\n",
    "# Write\n",
    "specs = [inten,phase,polar,fshift,group,\\\n",
    "        direc,source,offset,width,sgord]\n",
    "light_input('raman',beams,specs)"
   ]
  },
  {
   "cell_type": "markdown",
   "metadata": {},
   "source": [
    "# Langmuir Wave Parameters"
   ]
  },
  {
   "cell_type": "code",
   "execution_count": null,
   "metadata": {},
   "outputs": [],
   "source": [
    "# Laser light control options\n",
    "srs = 'true' # SRS source term\n",
    "tpd = 'false' # TPD source term\n",
    "iaw_pert = 'false' # Ion-acoustic wave perturbations source\n",
    "solver = 'spectral' # Type of solver to use\n",
    "dt_spec = 0.002 # Spectral solver timestep in ps\n",
    "light_steps = 10 # Max light steps per lw step\n",
    "Labc = 3 # Length of absorbing boundary in microns\n",
    "noise = 'false' # Add noise term into lw equation for seeding\n",
    "noise_amp = 1.67772 # Amplitude of noise term\n",
    "landau = 'false' # Include Landau damping\n",
    "damp = 0.1 # Collisional damping rate [ps^-1]\n",
    "\n",
    "# Write\n",
    "k1 = 'lw.'; k2 = '.enable'; k3 = 'noise'\n",
    "kwords = [f'{k1}SRS{k2}',f'{k1}TPD{k2}',f'{k1}ionAcousticPerturbations{k2}',\\\n",
    "          f'{k1}solver',f'{k1}spectral.dt',f'{k1}maxLightStepsPerStep',\\\n",
    "          f'{k1}Labc',f'{k1}{k3}{k2}',f'{k1}{k3}.amplitude',\\\n",
    "          f'{k1}landauDamping{k2}',f'{k1}collisionalDampingRate']\n",
    "specs = [srs,tpd,iaw_pert,solver,dt_spec,light_steps,\\\n",
    "         Labc,noise,noise_amp,landau,damp]\n",
    "std_input(kwords,specs)"
   ]
  },
  {
   "cell_type": "markdown",
   "metadata": {},
   "source": [
    "# Ion Acoustic Wave Parameters"
   ]
  },
  {
   "cell_type": "code",
   "execution_count": null,
   "metadata": {},
   "outputs": [],
   "source": [
    "# Ion acoustic wave file options\n",
    "laser = 'false' # Laser source term\n",
    "raman = 'false' # Raman source term\n",
    "lw = 'false' # Langmuir wave source term\n",
    "\n",
    "# Write\n",
    "k1 = 'iaw.sourceTerm.'; k2 = '.enable'\n",
    "kwords = [f'{k1}laser{k2}',f'{k1}raman{k2}',f'{k1}lw{k2}']\n",
    "specs = [laser,raman,lw]\n",
    "std_input(kwords,specs)"
   ]
  },
  {
   "cell_type": "markdown",
   "metadata": {},
   "source": [
    "# Instrumentation"
   ]
  },
  {
   "cell_type": "code",
   "execution_count": null,
   "metadata": {},
   "outputs": [],
   "source": [
    "# Instrumentation file options\n",
    "metrics = 'true' # Collect global metrics\n",
    "file = './data/lpse.metrics' # File path\n",
    "period = 0.01 # Sample period in ps\n",
    "\n",
    "# Write\n",
    "k1 = 'metrics.'\n",
    "kwords = [f'{k1}enable',f'{k1}file',f'{k1}samplePeriod']\n",
    "specs = [metrics,file,period]\n",
    "std_input(kwords,specs)"
   ]
  },
  {
   "cell_type": "markdown",
   "metadata": {},
   "source": [
    "# Run case"
   ]
  },
  {
   "cell_type": "code",
   "execution_count": null,
   "metadata": {},
   "outputs": [],
   "source": [
    "!{'mpirun -np 1 ../../bin/lpse_cpu --parms=lpse.parms'}"
   ]
  },
  {
   "cell_type": "markdown",
   "metadata": {},
   "source": [
    "# Visualise and extract datasets"
   ]
  },
  {
   "cell_type": "code",
   "execution_count": null,
   "metadata": {},
   "outputs": [],
   "source": [
    "# Extract metrics data\n",
    "mkeys, mdat = get_metrics(plot=True)\n",
    "print(mkeys)"
   ]
  },
  {
   "cell_type": "code",
   "execution_count": null,
   "metadata": {},
   "outputs": [],
   "source": [
    "# Extract fields data\n",
    "innerkys = ['time','x','data']\n",
    "outerkys = [field_fnames[i].replace(f_prefix,'') for i in range(len(field_fnames))]\n",
    "field_dicts = {i:{j:None for j in innerkys} for i in outerkys}\n",
    "for i in range(len(field_fnames)):\n",
    "    field_dicts[outerkys[i]] = get_fields(field_fnames[i],field_dicts[outerkys[i]],dsample,plot=True)"
   ]
  },
  {
   "cell_type": "code",
   "execution_count": null,
   "metadata": {},
   "outputs": [],
   "source": [
    "# Laser light transmission at final timestep\n",
    "icell = 50\n",
    "ocell = -50\n",
    "linx = field_dicts['S0_x']['x'][icell]\n",
    "lin = np.real(field_dicts['S0_x']['data'][-1,icell]) \n",
    "loutx = field_dicts['S0_x']['x'][ocell]\n",
    "lout = np.real(field_dicts['S0_x']['data'][-1,ocell])\n",
    "enl = 1-lout/lin\n",
    "print(f'Laser inner Poynting flux (at {linx:0.1f} um)' \\\n",
    "      + f' at sim end: {lin:0.3e} W/cm^2')\n",
    "print(f'Laser outer Poynting flux (at {loutx:0.1f} um)' \\\n",
    "      + f' at sim end: {lout:0.3e} W/cm^2')\n",
    "print(f'This is an energy loss of {enl:.2%}')"
   ]
  },
  {
   "cell_type": "code",
   "execution_count": null,
   "metadata": {},
   "outputs": [],
   "source": [
    "# Raman light energy gain at final timestep\n",
    "icell = -50\n",
    "ocell = 50\n",
    "rinx = field_dicts['S1_x']['x'][icell]\n",
    "rin = np.real(field_dicts['S1_x']['data'][-1,icell]) \n",
    "routx = field_dicts['S1_x']['x'][ocell]\n",
    "rout = np.real(field_dicts['S1_x']['data'][-1,ocell])\n",
    "eng = rout/rin - 1\n",
    "lenl = abs(rout-rin)/(lin-lout)\n",
    "print(f'Raman inner Poynting flux (at {rinx:0.1f} um)' \\\n",
    "      + f' at sim end: {rin:0.3e} W/cm^2')\n",
    "print(f'Raman outer Poynting flux (at {routx:0.1f} um)' \\\n",
    "      + f' at sim end: {rout:0.3e} W/cm^2')\n",
    "print(f'This is an energy gain of {eng:.2%}')\n",
    "print(f'It represents {lenl:.2%} of the laser energy loss')"
   ]
  }
 ],
 "metadata": {
  "kernelspec": {
   "display_name": "Python 3",
   "language": "python",
   "name": "python3"
  },
  "language_info": {
   "codemirror_mode": {
    "name": "ipython",
    "version": 3
   },
   "file_extension": ".py",
   "mimetype": "text/x-python",
   "name": "python",
   "nbconvert_exporter": "python",
   "pygments_lexer": "ipython3",
   "version": "3.6.6"
  }
 },
 "nbformat": 4,
 "nbformat_minor": 2
}
