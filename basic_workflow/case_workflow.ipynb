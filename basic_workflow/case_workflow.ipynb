{
 "cells": [
  {
   "cell_type": "code",
   "execution_count": null,
   "metadata": {},
   "outputs": [],
   "source": [
    "# Initialisation\n",
    "import write_files as wf\n",
    "import lpse_data as ld\n",
    "import numpy as np\n",
    "import matplotlib.pyplot as plt\n",
    "\n",
    "# Ipython magic features\n",
    "%load_ext autoreload\n",
    "%autoreload 2\n",
    "  \n",
    "# LPSE class\n",
    "lpse = ld.lpse_case()\n",
    "lpse.dfp = './data/lpse.' # Data file prefix\n",
    "lpse.verbose = True # Show prints\n",
    "lpse.np = 1 # Number of processors\n",
    "lpse.bin = '../../bin/lpse_cpu' # Binary location"
   ]
  },
  {
   "cell_type": "markdown",
   "metadata": {},
   "source": [
    "LPSE user guide contains additional options to those listed"
   ]
  },
  {
   "cell_type": "markdown",
   "metadata": {},
   "source": [
    "# Job Control"
   ]
  },
  {
   "cell_type": "code",
   "execution_count": null,
   "metadata": {},
   "outputs": [],
   "source": [
    "# Job control file options\n",
    "jc = wf.job_control()\n",
    "jc.version = '3.2.11'\n",
    "jc.verbose = 2\n",
    "jc.seed = 1 # 0 for random, otherwise fixed seed\n",
    "jc.resources.heartbeatInterval = 0.1 # minutes\n",
    "lpse.add_class(jc)"
   ]
  },
  {
   "cell_type": "markdown",
   "metadata": {},
   "source": [
    "# Gridding"
   ]
  },
  {
   "cell_type": "code",
   "execution_count": null,
   "metadata": {},
   "outputs": [],
   "source": [
    "# Gridding file options\n",
    "gr = wf.gridding()\n",
    "gr.grid.sizes = 100 # microns\n",
    "gr.grid.nodes = 4000\n",
    "gr.grid.antiAliasing.range = 0.333\n",
    "gr.grid.antiAliasing.isAutomatic = 'false'\n",
    "lpse.add_class(gr)"
   ]
  },
  {
   "cell_type": "markdown",
   "metadata": {},
   "source": [
    "# Components"
   ]
  },
  {
   "cell_type": "code",
   "execution_count": null,
   "metadata": {},
   "outputs": [],
   "source": [
    "cm = wf.components()\n",
    "cm.laser.enable = 'true'\n",
    "cm.raman.enable = 'true'\n",
    "cm.lw.enable = 'true'\n",
    "cm.iaw.enable = 'false'\n",
    "cm.hpe.enable = 'false'\n",
    "lpse.add_class(cm)"
   ]
  },
  {
   "cell_type": "markdown",
   "metadata": {},
   "source": [
    "# Temporal Control"
   ]
  },
  {
   "cell_type": "code",
   "execution_count": null,
   "metadata": {},
   "outputs": [],
   "source": [
    "tc = wf.temporal_control()\n",
    "tc.simulation.samplePeriod = 0.05 # ps\n",
    "tc.simulation.time.end = 2 # ps\n",
    "lpse.add_class(tc)"
   ]
  },
  {
   "cell_type": "markdown",
   "metadata": {},
   "source": [
    "# I/O Control"
   ]
  },
  {
   "cell_type": "code",
   "execution_count": null,
   "metadata": {},
   "outputs": [],
   "source": [
    "# Specifying a filename turns on output\n",
    "io = wf.io_control()\n",
    "io.grid.downSampleFactors = 4 # Spatial downsampling per dimension\n",
    "io.lw.save.pots = lpse.dfp + 'pots'\n",
    "io.laser.save.E0.z = lpse.dfp + 'E0_z'\n",
    "io.laser.save.S0.x = lpse.dfp + 'S0_x'\n",
    "io.raman.save.E0.z = lpse.dfp + 'E1_z'\n",
    "io.raman.save.S0.x = lpse.dfp + 'S1_x'\n",
    "io.raman.save.E0.__dict__['2'] = None\n",
    "lpse.add_class(io)"
   ]
  },
  {
   "cell_type": "markdown",
   "metadata": {},
   "source": [
    "# Physical Parameters"
   ]
  },
  {
   "cell_type": "code",
   "execution_count": null,
   "metadata": {},
   "outputs": [],
   "source": [
    "pp = wf.physical_parameters()\n",
    "pp.physical.Z = 3\n",
    "pp.physical.Te = 0.1 # keV\n",
    "pp.physical.Ti = 0.1 # keV\n",
    "pp.physical.MiOverMe = 1836.15\n",
    "pp.lw.envelopeDensity = 0.15\n",
    "lpse.plasmaFrequencyDensity = 0.152\n",
    "pp.densityProfile.shape = 'linear'\n",
    "pp.densityProfile.geometry = 'cartesian'\n",
    "pp.densityProfile.NminOverNc = 0.145\n",
    "pp.densityProfile.NmaxOverNc = 0.155\n",
    "pp.densityProfile.NminLocation = '-50 0 0'\n",
    "pp.densityProfile.NmaxLocation = '50 0 0'\n",
    "lpse.add_class(pp)"
   ]
  },
  {
   "cell_type": "markdown",
   "metadata": {},
   "source": [
    "# Light Control"
   ]
  },
  {
   "cell_type": "code",
   "execution_count": null,
   "metadata": {},
   "outputs": [],
   "source": [
    "lc = wf.light_control()\n",
    "lc.laser.pumpDepletion.SRS.enable = 'true'\n",
    "lc.laser.ionAcousticPerturbations.enable = 'false'\n",
    "lc.laser.wavelength = 0.351\n",
    "lc.laser.solver = 'fd'\n",
    "lc.laser.evolution.dtFraction = 0.95\n",
    "lc.laser.evolution.Labc = 3 # microns\n",
    "lc.laser.evolution.abc.type = 'pml'\n",
    "lc.laser.evolution.Loff = 1 # microns\n",
    "lc.laser.evolution.absorption = 0\n",
    "lc.raman.sourceTerm.lw.enable = 'true'\n",
    "lc.raman.ionAcousticPerturbations.enable = 'false'\n",
    "lc.raman.solver = 'fd'\n",
    "lc.raman.evolution.dtFraction = 0.95\n",
    "lc.raman.evolution.Labc = 3\n",
    "lc.raman.evolution.abc.type = 'pml'\n",
    "lc.raman.evolution.absorption = 0\n",
    "lpse.add_class(lc)"
   ]
  },
  {
   "cell_type": "markdown",
   "metadata": {},
   "source": [
    "# Light Sources"
   ]
  },
  {
   "cell_type": "code",
   "execution_count": null,
   "metadata": {},
   "outputs": [],
   "source": [
    "ls = wf.light_source()\n",
    "ls.laser.nBeams = 1\n",
    "ls.laser.intensity = ['2e+14'] # W/cm^2\n",
    "ls.laser.phase = [0] # degrees\n",
    "ls.laser.polarization = [90] # degrees\n",
    "ls.laser.direction = ['1 0 0']\n",
    "ls.laser.frequencyShift = [0]\n",
    "ls.laser.group = [0]\n",
    "ls.laser.evolution.source = ['min.x']\n",
    "ls.laser.evolution.offset = ['0 0 0'] # microns\n",
    "ls.laser.evolution.width = [10] # Half-width at 1/e of sgauss [um]\n",
    "ls.laser.evolution.sgOrder = [4]\n",
    "ls.raman.nBeams = 1\n",
    "ls.raman.intensity = ['1e+12' for i in range(ls.raman.nBeams)] # W/cm^2\n",
    "ls.raman.phase = [0 for i in range(ls.raman.nBeams)] # degrees\n",
    "ls.raman.polarization = [90 for i in range(ls.raman.nBeams)] # degrees\n",
    "ls.raman.direction = ['-1 0 0' for i in range(ls.raman.nBeams)]\n",
    "ls.raman.frequencyShift = [0.005]\n",
    "ls.raman.group = [0 for i in range(ls.raman.nBeams)]\n",
    "ls.raman.evolution.source = ['max.x' for i in range(ls.raman.nBeams)]\n",
    "ls.raman.evolution.offset = ['0 0 0' for i in range(ls.raman.nBeams)] # microns\n",
    "ls.raman.evolution.width = [10 for i in range(ls.raman.nBeams)] # Half-width at 1/e of sgauss [um]\n",
    "ls.raman.evolution.sgOrder = [4 for i in range(ls.raman.nBeams)] \n",
    "lpse.add_class(ls)"
   ]
  },
  {
   "cell_type": "markdown",
   "metadata": {},
   "source": [
    "# Langmuir Wave Parameters"
   ]
  },
  {
   "cell_type": "code",
   "execution_count": null,
   "metadata": {},
   "outputs": [],
   "source": [
    "lwc = wf.lw_control()\n",
    "lwc.lw.SRS.enable = 'true'\n",
    "lwc.lw.spectral.dt = 0.002 # ps\n",
    "lwc.lw.maxLightStepsPerStep = 10\n",
    "lwc.lw.Labc = 3 # microns\n",
    "lwc.lw.noise.enable = 'false'\n",
    "lwc.lw.noise.isCalculated = 'false'\n",
    "lwc.lw.noise.amplitude = 0.01\n",
    "lwc.lw.collisionalDampingRate = 0.1\n",
    "lwc.lw.__dict__['collisionalDampingRate.isCalculated'] = 'false'\n",
    "lwc.lw.landauDamping.enable = 'true'\n",
    "lpse.add_class(lwc)"
   ]
  },
  {
   "cell_type": "markdown",
   "metadata": {},
   "source": [
    "# Ion Acoustic Wave Parameters"
   ]
  },
  {
   "cell_type": "code",
   "execution_count": null,
   "metadata": {},
   "outputs": [],
   "source": [
    "iawc = wf.iaw_control()\n",
    "lpse.add_class(iawc)"
   ]
  },
  {
   "cell_type": "markdown",
   "metadata": {},
   "source": [
    "# Instrumentation"
   ]
  },
  {
   "cell_type": "code",
   "execution_count": null,
   "metadata": {},
   "outputs": [],
   "source": [
    "ins = wf.instrumentation()\n",
    "ins.metrics.enable = 'true'\n",
    "ins.metrics.file = lpse.dfp + 'metrics'\n",
    "ins.metrics.samplePeriod = 0.01 # ps\n",
    "lpse.add_class(ins)"
   ]
  },
  {
   "cell_type": "markdown",
   "metadata": {},
   "source": [
    "# Run case"
   ]
  },
  {
   "cell_type": "code",
   "execution_count": null,
   "metadata": {},
   "outputs": [],
   "source": [
    "import calc_inputs as ci\n",
    "lpse.plasmaFrequencyDensity = 0.150\n",
    "freqs = ci.bsrs_lw_envelope(lpse,cells_per_wvl=10)\n",
    "print(freqs)"
   ]
  },
  {
   "cell_type": "code",
   "execution_count": null,
   "metadata": {},
   "outputs": [],
   "source": [
    "if lpse.verbose:\n",
    "  lpse.write()\n",
    "  !{'mpirun -np '+str(lpse.np)+' '+lpse.bin+' --parms=lpse.parms'}\n",
    "else:\n",
    "  lpse.run()"
   ]
  },
  {
   "cell_type": "markdown",
   "metadata": {},
   "source": [
    "# Post-processing"
   ]
  },
  {
   "cell_type": "code",
   "execution_count": null,
   "metadata": {},
   "outputs": [],
   "source": [
    "lpse.metrics()\n",
    "print(lpse.mkeys)"
   ]
  },
  {
   "cell_type": "code",
   "execution_count": null,
   "metadata": {},
   "outputs": [],
   "source": [
    "lpse.fields()\n",
    "print(lpse.fkeys)"
   ]
  },
  {
   "cell_type": "code",
   "execution_count": null,
   "metadata": {
    "code_folding": []
   },
   "outputs": [],
   "source": [
    "%matplotlib notebook\n",
    "lpse.plot_field('S1_x')"
   ]
  },
  {
   "cell_type": "code",
   "execution_count": null,
   "metadata": {
    "code_folding": []
   },
   "outputs": [],
   "source": [
    "lpse.plot_field('S1_x')"
   ]
  },
  {
   "cell_type": "code",
   "execution_count": null,
   "metadata": {},
   "outputs": [],
   "source": [
    "# Laser light transmission at final timestep\n",
    "icell = 50\n",
    "ocell = -50\n",
    "linx = lpse.fdat['S0_x']['x'][icell]\n",
    "lin = np.real(lpse.fdat['S0_x']['data'][-1,icell]) \n",
    "loutx = lpse.fdat['S0_x']['x'][ocell]\n",
    "lout = np.real(lpse.fdat['S0_x']['data'][-1,ocell])\n",
    "enl = 1-lout/lin\n",
    "print(f'Laser inner Poynting flux (at {linx:0.1f} um)' \\\n",
    "      + f' at sim end: {lin:0.3e} W/cm^2')\n",
    "print(f'Laser outer Poynting flux (at {loutx:0.1f} um)' \\\n",
    "      + f' at sim end: {lout:0.3e} W/cm^2')\n",
    "print(f'This is an energy loss of {enl:.2%}')"
   ]
  },
  {
   "cell_type": "code",
   "execution_count": null,
   "metadata": {},
   "outputs": [],
   "source": [
    "# Raman light energy gain at final timestep\n",
    "icell = -50\n",
    "ocell = 50\n",
    "rinx = lpse.fdat['S1_x']['x'][icell]\n",
    "rin = np.real(lpse.fdat['S1_x']['data'][-1,icell]) \n",
    "routx = lpse.fdat['S1_x']['x'][ocell]\n",
    "rout = np.real(lpse.fdat['S1_x']['data'][-1,ocell])\n",
    "eng = rout/rin - 1\n",
    "lenl = abs(rout-rin)/(lin-lout)\n",
    "print(f'Raman inner Poynting flux (at {rinx:0.1f} um)' \\\n",
    "      + f' at sim end: {rin:0.3e} W/cm^2')\n",
    "print(f'Raman outer Poynting flux (at {routx:0.1f} um)' \\\n",
    "      + f' at sim end: {rout:0.3e} W/cm^2')\n",
    "print(f'This is an energy gain of {eng:.2%}')\n",
    "print(f'It represents {lenl:.2%} of the laser energy loss')"
   ]
  },
  {
   "cell_type": "code",
   "execution_count": null,
   "metadata": {},
   "outputs": [],
   "source": []
  },
  {
   "cell_type": "code",
   "execution_count": null,
   "metadata": {},
   "outputs": [],
   "source": []
  }
 ],
 "metadata": {
  "kernelspec": {
   "display_name": "Python 3",
   "language": "python",
   "name": "python3"
  },
  "language_info": {
   "codemirror_mode": {
    "name": "ipython",
    "version": 3
   },
   "file_extension": ".py",
   "mimetype": "text/x-python",
   "name": "python",
   "nbconvert_exporter": "python",
   "pygments_lexer": "ipython3",
   "version": "3.6.6"
  }
 },
 "nbformat": 4,
 "nbformat_minor": 2
}
