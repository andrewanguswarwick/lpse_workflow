{
 "cells": [
  {
   "cell_type": "code",
   "execution_count": null,
   "metadata": {},
   "outputs": [],
   "source": [
    "# Initialisation\n",
    "lpse_utils_loc = '..'\n",
    "import sys; sys.path.insert(0,lpse_utils_loc)\n",
    "import lpse_utils.write_files as wf\n",
    "import lpse_utils.lpse_data as ld\n",
    "import numpy as np\n",
    "import matplotlib.pyplot as plt\n",
    "\n",
    "# Ipython magic features\n",
    "magic = True\n",
    "if magic:\n",
    "  %load_ext autoreload\n",
    "  %autoreload 2\n",
    "  \n",
    "# LPSE class\n",
    "lpse = ld.lpse_case()\n",
    "lpse.dfp = './data/lpse.' # Data file prefix\n",
    "lpse.verbose = False # Show prints"
   ]
  },
  {
   "cell_type": "markdown",
   "metadata": {},
   "source": [
    "To get implemented attribute options call the self.options() method for each setup class. The LPSE user guide contains additional options to those currently facilitated by the setup classes."
   ]
  },
  {
   "cell_type": "markdown",
   "metadata": {},
   "source": [
    "# Job Control"
   ]
  },
  {
   "cell_type": "code",
   "execution_count": null,
   "metadata": {},
   "outputs": [],
   "source": [
    "jc = wf.job_control()\n",
    "jc.version = '3.2.11' \n",
    "jc.seed = 1 # 0 for random, otherwise fixed seed\n",
    "jc.resources.heartbeatInterval = 0.1 # minutes\n",
    "lpse.add_class(jc)"
   ]
  },
  {
   "cell_type": "markdown",
   "metadata": {},
   "source": [
    "# Gridding"
   ]
  },
  {
   "cell_type": "code",
   "execution_count": null,
   "metadata": {},
   "outputs": [],
   "source": [
    "gr = wf.gridding()\n",
    "gr.grid.sizes = 108 # microns\n",
    "gr.grid.nodes = 4000\n",
    "lpse.add_class(gr)"
   ]
  },
  {
   "cell_type": "markdown",
   "metadata": {},
   "source": [
    "# Components"
   ]
  },
  {
   "cell_type": "code",
   "execution_count": null,
   "metadata": {},
   "outputs": [],
   "source": [
    "cm = wf.components()\n",
    "cm.laser.enable = 'true'\n",
    "cm.raman.enable = 'true'\n",
    "cm.lw.enable = 'true'\n",
    "lpse.add_class(cm)"
   ]
  },
  {
   "cell_type": "markdown",
   "metadata": {},
   "source": [
    "# Temporal Control"
   ]
  },
  {
   "cell_type": "code",
   "execution_count": null,
   "metadata": {},
   "outputs": [],
   "source": [
    "tc = wf.temporal_control()\n",
    "tc.simulation.samplePeriod = 0.05 # ps\n",
    "tc.simulation.time.end = 4 # ps\n",
    "lpse.add_class(tc)"
   ]
  },
  {
   "cell_type": "markdown",
   "metadata": {},
   "source": [
    "# I/O Control"
   ]
  },
  {
   "cell_type": "code",
   "execution_count": null,
   "metadata": {},
   "outputs": [],
   "source": [
    "# Specifying a filename turns on output\n",
    "io = wf.io_control()\n",
    "io.grid.downSampleFactors = 4 # Spatial downsampling per dimension\n",
    "io.lw.save.pots = lpse.dfp + 'pots'\n",
    "io.laser.save.E0.z = lpse.dfp + 'E0_z'\n",
    "io.laser.save.S0.x = lpse.dfp + 'S0_x'\n",
    "io.raman.save.E0.z = lpse.dfp + 'E1_z'\n",
    "io.raman.save.S0.x = lpse.dfp + 'S1_x'\n",
    "io.raman.save.E0.__dict__['2'] = None\n",
    "lpse.add_class(io)"
   ]
  },
  {
   "cell_type": "markdown",
   "metadata": {},
   "source": [
    "# Physical Parameters"
   ]
  },
  {
   "cell_type": "code",
   "execution_count": null,
   "metadata": {},
   "outputs": [],
   "source": [
    "pp = wf.physical_parameters()\n",
    "pp.physical.Z = 3.5\n",
    "pp.physical.Te = 4.5 # keV\n",
    "pp.physical.Ti = 4.5 # keV\n",
    "pp.physical.MiOverMe = 11848.8\n",
    "pp.lw.envelopeDensity = 0.15\n",
    "pp.densityProfile.shape = 'exp'\n",
    "pp.densityProfile.geometry = 'cartesian'\n",
    "pp.densityProfile.NminOverNc = 0.14\n",
    "pp.densityProfile.NmaxOverNc = 0.17\n",
    "pp.densityProfile.NminLocation = '-50 0 0'\n",
    "pp.densityProfile.NmaxLocation = '50 0 0'\n",
    "lpse.add_class(pp)"
   ]
  },
  {
   "cell_type": "markdown",
   "metadata": {},
   "source": [
    "# Light Control"
   ]
  },
  {
   "cell_type": "code",
   "execution_count": null,
   "metadata": {},
   "outputs": [],
   "source": [
    "lc = wf.light_control()\n",
    "lc.laser.wavelength = 0.351 # microns\n",
    "lc.laser.pumpDepletion.SRS.enable = 'true'\n",
    "lc.laser.solver = 'fd'\n",
    "lc.laser.evolution.Labc = 3 # microns\n",
    "lc.laser.evolution.Loff = 1 # microns\n",
    "lc.raman.sourceTerm.lw.enable = 'true'\n",
    "lc.raman.solver = 'fd'\n",
    "lc.raman.evolution.Labc = 3\n",
    "lc.raman.evolution.Loff = 1 \n",
    "lpse.add_class(lc)"
   ]
  },
  {
   "cell_type": "markdown",
   "metadata": {},
   "source": [
    "# Light Sources"
   ]
  },
  {
   "cell_type": "code",
   "execution_count": null,
   "metadata": {},
   "outputs": [],
   "source": [
    "ls = wf.light_source()\n",
    "ls.laser.nBeams = 1\n",
    "ls.laser.intensity = ['1.0e+14'] # W/cm^2\n",
    "ls.laser.phase = [0] # degrees\n",
    "ls.laser.polarization = [90] # degrees\n",
    "ls.laser.direction = ['1 0 0']\n",
    "ls.laser.frequencyShift = [0]\n",
    "ls.laser.group = [0]\n",
    "ls.laser.evolution.source = ['min.x']\n",
    "ls.laser.evolution.offset = ['0 0 0'] # microns\n",
    "ls.laser.evolution.width = [0] # Half-width at 1/e of sgauss [um]\n",
    "ls.laser.evolution.sgOrder = [4]\n",
    "ls.raman.nBeams = 0\n",
    "# ls.raman.intensity = ['4.96e+10'] # W/cm^2\n",
    "# ls.raman.phase = [0] # degrees\n",
    "# ls.raman.polarization = [90] # degrees\n",
    "# ls.raman.direction = ['-1 0 0']\n",
    "# ls.raman.frequencyShift = [0]\n",
    "# ls.raman.group = [0]\n",
    "# ls.raman.evolution.source = ['max.x']\n",
    "# ls.raman.evolution.offset = ['0 0 0'] # microns\n",
    "# ls.raman.evolution.width = [0] # Half-width at 1/e of sgauss [um]\n",
    "# ls.raman.evolution.sgOrder = [4] \n",
    "lpse.add_class(ls)"
   ]
  },
  {
   "cell_type": "markdown",
   "metadata": {},
   "source": [
    "# Langmuir Wave Parameters"
   ]
  },
  {
   "cell_type": "code",
   "execution_count": null,
   "metadata": {},
   "outputs": [],
   "source": [
    "lwc = wf.lw_control()\n",
    "lwc.lw.SRS.enable = 'true'\n",
    "lwc.lw.spectral.dt = 0.002 # ps\n",
    "lwc.lw.Labc = 3 # microns\n",
    "lwc.lw.noise.enable = 'true'\n",
    "lwc.lw.noise.isCalculated = 'false'\n",
    "lwc.lw.noise.amplitude = 1.0\n",
    "lwc.lw.collisionalDampingRate = 0.1\n",
    "lwc.lw.__dict__['collisionalDampingRate.isCalculated'] = 'true'\n",
    "lpse.add_class(lwc)"
   ]
  },
  {
   "cell_type": "markdown",
   "metadata": {},
   "source": [
    "# Ion Acoustic Wave Parameters"
   ]
  },
  {
   "cell_type": "code",
   "execution_count": null,
   "metadata": {},
   "outputs": [],
   "source": [
    "iawc = wf.iaw_control()\n",
    "lpse.add_class(iawc)"
   ]
  },
  {
   "cell_type": "markdown",
   "metadata": {},
   "source": [
    "# Instrumentation"
   ]
  },
  {
   "cell_type": "code",
   "execution_count": null,
   "metadata": {},
   "outputs": [],
   "source": [
    "ins = wf.instrumentation()\n",
    "ins.metrics.enable = 'true'\n",
    "ins.metrics.file = lpse.dfp + 'metrics'\n",
    "ins.metrics.samplePeriod = 0.01 # ps\n",
    "lpse.add_class(ins)"
   ]
  },
  {
   "cell_type": "markdown",
   "metadata": {},
   "source": [
    "# Run case"
   ]
  },
  {
   "cell_type": "code",
   "execution_count": null,
   "metadata": {},
   "outputs": [],
   "source": [
    "lpse.np = 1\n",
    "lpse.bin = '../../bin/lpse_cpu'\n",
    "lpse.write(pout=False)\n",
    "if magic:\n",
    "  !{'mpirun -np '+str(lpse.np)+' '+lpse.bin+' --parms=lpse.parms'}\n",
    "else:\n",
    "  lpse.run()"
   ]
  },
  {
   "cell_type": "markdown",
   "metadata": {},
   "source": [
    "# Post-processing"
   ]
  },
  {
   "cell_type": "code",
   "execution_count": null,
   "metadata": {},
   "outputs": [],
   "source": [
    "lpse.metrics(plot=False)\n",
    "print(lpse.mkeys)"
   ]
  },
  {
   "cell_type": "code",
   "execution_count": null,
   "metadata": {},
   "outputs": [],
   "source": [
    "lpse.fields(plot=True,fname=io.raman.save.S0.x)\n",
    "print(lpse.fkeys)"
   ]
  },
  {
   "cell_type": "code",
   "execution_count": null,
   "metadata": {},
   "outputs": [],
   "source": [
    "# Integrate Raman Poynting flux over domain and normalise\n",
    "split = gr.grid.sizes/2\n",
    "xmin = -split+lc.laser.evolution.Labc+lc.laser.evolution.Loff\n",
    "xdat = lpse.fdat['S1_x']['x']\n",
    "Sdat = np.real(lpse.fdat['S1_x']['data'][-1,:])\n",
    "whe = np.argwhere(xdat > xmin)\n",
    "xdatn = xdat[whe]\n",
    "Sdatn = Sdat[whe]\n",
    "Isrs = Sdatn[0,0]\n",
    "print(f'<I_srs> = {Isrs:0.3e} W/cm^2')"
   ]
  },
  {
   "cell_type": "code",
   "execution_count": null,
   "metadata": {},
   "outputs": [],
   "source": [
    "# Region of interest\n",
    "plt.plot(xdatn,Sdatn,label='Raman S_x')\n",
    "plt.ylabel('Poynting flux [W/cm^2]')\n",
    "plt.xlabel('x [microns]')\n",
    "plt.legend()\n",
    "plt.show()"
   ]
  },
  {
   "cell_type": "code",
   "execution_count": null,
   "metadata": {},
   "outputs": [],
   "source": [
    "# Density profile\n",
    "x = np.linspace(0,100,100)\n",
    "nmin = 0.14\n",
    "nmax = 0.17\n",
    "Lx = 500\n",
    "n = lambda x: nmin*np.exp(x/Lx)\n",
    "plt.plot(x,n(x))\n",
    "plt.show()"
   ]
  }
 ],
 "metadata": {
  "kernelspec": {
   "display_name": "Python 3",
   "language": "python",
   "name": "python3"
  },
  "language_info": {
   "codemirror_mode": {
    "name": "ipython",
    "version": 3
   },
   "file_extension": ".py",
   "mimetype": "text/x-python",
   "name": "python",
   "nbconvert_exporter": "python",
   "pygments_lexer": "ipython3",
   "version": "3.6.6"
  }
 },
 "nbformat": 4,
 "nbformat_minor": 2
}
