{
 "cells": [
  {
   "cell_type": "markdown",
   "metadata": {},
   "source": [
    "# Initialisation"
   ]
  },
  {
   "cell_type": "code",
   "execution_count": null,
   "metadata": {},
   "outputs": [],
   "source": [
    "import write_files as wf\n",
    "import lpse_data as ld\n",
    "import random_srs as rs\n",
    "import matplotlib.pyplot as plt\n",
    "import numpy as np\n",
    "import copy\n",
    "import pickle\n",
    "import ihp\n",
    "from functools import partial\n",
    "from time import time as stopwatch\n",
    "import calc_inputs as ci\n",
    "\n",
    "# Ipython magic features\n",
    "%load_ext autoreload\n",
    "%autoreload 2\n",
    "  \n",
    "# LPSE class\n",
    "lpse = ld.lpse_case()\n",
    "lpse.dfp = './data/lpse.' # Data file prefix\n",
    "lpse.verbose = False # Show prints\n",
    "lpse.np = 1 # Number of processors\n",
    "lpse.bin = '/home/space/phrfqm/lpse-3.2.11/bin/lpse_cpu' # Binary"
   ]
  },
  {
   "cell_type": "markdown",
   "metadata": {},
   "source": [
    "# Base case setup"
   ]
  },
  {
   "cell_type": "code",
   "execution_count": null,
   "metadata": {},
   "outputs": [],
   "source": [
    "jc = wf.job_control()\n",
    "jc.version = '3.2.11' \n",
    "jc.seed = 1 # 0 for random, otherwise fixed seed\n",
    "jc.resources.heartbeatInterval = 0.1 # minutes\n",
    "lpse.add_class(jc)"
   ]
  },
  {
   "cell_type": "code",
   "execution_count": null,
   "metadata": {},
   "outputs": [],
   "source": [
    "gr = wf.gridding()\n",
    "gr.grid.sizes = 108 # microns\n",
    "gr.grid.nodes = 4321\n",
    "gr.grid.antiAliasing.range = 0.333\n",
    "gr.grid.antiAliasing.isAutomatic = 'false'\n",
    "lpse.add_class(gr)"
   ]
  },
  {
   "cell_type": "code",
   "execution_count": null,
   "metadata": {},
   "outputs": [],
   "source": [
    "cm = wf.components()\n",
    "cm.laser.enable = 'true'\n",
    "cm.raman.enable = 'true'\n",
    "cm.lw.enable = 'true'\n",
    "lpse.add_class(cm)"
   ]
  },
  {
   "cell_type": "code",
   "execution_count": null,
   "metadata": {},
   "outputs": [],
   "source": [
    "tc = wf.temporal_control()\n",
    "tc.simulation.samplePeriod = 0.01 # ps\n",
    "tc.simulation.time.end = 3 # ps\n",
    "lpse.add_class(tc)"
   ]
  },
  {
   "cell_type": "code",
   "execution_count": null,
   "metadata": {},
   "outputs": [],
   "source": [
    "io = wf.io_control()\n",
    "io.grid.downSampleFactors = 1 # Spatial\n",
    "io.raman.save.S0.x = lpse.dfp + 'S1_x'\n",
    "io.laser.save.E0.z = lpse.dfp + 'E0_z'\n",
    "io.raman.save.E0.z = lpse.dfp + 'E1_z'\n",
    "io.lw.save.pots = lpse.dfp + 'pots'\n",
    "lpse.add_class(io)"
   ]
  },
  {
   "cell_type": "code",
   "execution_count": null,
   "metadata": {},
   "outputs": [],
   "source": [
    "pp = wf.physical_parameters()\n",
    "pp.physical.Z = 3.5\n",
    "pp.physical.Te = 4.5 # keV\n",
    "pp.physical.Ti = 4.5 # keV\n",
    "pp.physical.MiOverMe =  11866.0\n",
    "pp.lw.envelopeDensity = 0.15\n",
    "pp.densityProfile.shape = 'exp'\n",
    "pp.densityProfile.geometry = 'cartesian'\n",
    "pp.densityProfile.NminOverNc = 0.14\n",
    "pp.densityProfile.NmaxOverNc = 0.17\n",
    "pp.densityProfile.NminLocation = '-50 0 0'\n",
    "pp.densityProfile.NmaxLocation = '50 0 0'\n",
    "lpse.add_class(pp)"
   ]
  },
  {
   "cell_type": "code",
   "execution_count": null,
   "metadata": {},
   "outputs": [],
   "source": [
    "lc = wf.light_control()\n",
    "lc.laser.wavelength = 0.351 # microns\n",
    "lc.laser.pumpDepletion.SRS.enable = 'true'\n",
    "lc.laser.evolution.Labc = 3 # microns\n",
    "lc.laser.evolution.Loff = 1 # microns\n",
    "lc.raman.sourceTerm.lw.enable = 'true'\n",
    "lc.raman.evolution.Labc = 3\n",
    "lc.raman.evolution.Loff = 1 \n",
    "# fd solvers\n",
    "# lc.laser.solver = 'fd'\n",
    "# lc.laser.evolution.solverOrder = 4\n",
    "# lc.laser.evolution.dtFraction = 0.95\n",
    "# lc.raman.solver = 'fd'\n",
    "# lc.raman.evolution.solverOrder = 2\n",
    "# lc.raman.evolution.dtFraction = 0.95\n",
    "# spectral solvers\n",
    "lc.laser.solver = 'spectral'\n",
    "lc.laser.spectral.dt = 2e-6 # ps\n",
    "lc.raman.solver = 'spectral'\n",
    "lc.raman.spectral.dt = 2e-6\n",
    "lpse.add_class(lc)"
   ]
  },
  {
   "cell_type": "code",
   "execution_count": null,
   "metadata": {},
   "outputs": [],
   "source": [
    "ls = wf.light_source()\n",
    "ls.laser.nBeams = 1\n",
    "ls.laser.intensity = ['1.0e+14'] # W/cm^2\n",
    "ls.laser.phase = [0] # degrees\n",
    "ls.laser.polarization = [90] # degrees\n",
    "ls.laser.direction = ['1 0 0']\n",
    "ls.laser.frequencyShift = [0]\n",
    "ls.laser.group = [0]\n",
    "ls.laser.evolution.source = ['min.x']\n",
    "ls.laser.evolution.offset = ['0 0 0'] # microns\n",
    "ls.laser.evolution.width = [0] # Half-width at 1/e of sgauss [um]\n",
    "ls.laser.evolution.sgOrder = [4]\n",
    "lpse.add_class(ls)"
   ]
  },
  {
   "cell_type": "code",
   "execution_count": null,
   "metadata": {},
   "outputs": [],
   "source": [
    "lwc = wf.lw_control()\n",
    "lwc.lw.SRS.enable = 'true'\n",
    "lwc.lw.spectral.dt = 2e-6 # ps\n",
    "lwc.lw.Labc = 3 # microns\n",
    "lwc.lw.noise.enable = 'true'\n",
    "lwc.lw.noise.isCalculated = 'false'\n",
    "lwc.lw.noise.amplitude = 0.015\n",
    "lwc.lw.collisionalDampingRate = 0.1\n",
    "lwc.lw.__dict__['collisionalDampingRate.isCalculated'] = 'true'\n",
    "lwc.lw.landauDamping.enable = 'true'\n",
    "lwc.lw.kFilter.enable = 'true'\n",
    "lwc.lw.kFilter.scale = 1.2\n",
    "lpse.add_class(lwc)"
   ]
  },
  {
   "cell_type": "code",
   "execution_count": null,
   "metadata": {},
   "outputs": [],
   "source": [
    "ins = wf.instrumentation()\n",
    "ins.metrics.enable = 'true'\n",
    "ins.metrics.file = lpse.dfp + 'metrics'\n",
    "ins.metrics.samplePeriod = 0.01 # ps\n",
    "lpse.add_class(ins)"
   ]
  },
  {
   "cell_type": "markdown",
   "metadata": {},
   "source": [
    "# List of density profile classes"
   ]
  },
  {
   "cell_type": "code",
   "execution_count": null,
   "metadata": {},
   "outputs": [],
   "source": [
    "# format ppxy where x = L_n, y = n_mid, and 1,2,3 = low, mid, high\n",
    "pp22 = copy.deepcopy(pp)\n",
    "pp12 = copy.deepcopy(pp)\n",
    "pp12.densityProfile.NminOverNc = 0.13\n",
    "pp12.densityProfile.NmaxOverNc = 0.18\n",
    "pp21 = copy.deepcopy(pp)\n",
    "pp21.lw.envelopeDensity = 0.12\n",
    "pp21.densityProfile.NminOverNc = 0.11\n",
    "pp21.densityProfile.NmaxOverNc = 0.13\n",
    "pp23 = copy.deepcopy(pp)\n",
    "pp23.lw.envelopeDensity = 0.20\n",
    "pp23.densityProfile.NminOverNc = 0.18\n",
    "pp23.densityProfile.NmaxOverNc = 0.22\n",
    "pp32 = copy.deepcopy(pp)\n",
    "pp32.densityProfile.NminOverNc = 0.14\n",
    "pp32.densityProfile.NmaxOverNc = 0.16\n",
    "dens = [pp12,pp21,pp22,pp23,pp32]\n",
    "cdens = [0.15,0.12,0.15,0.20,0.15]\n",
    "dlabs = ['Ln=300um; nmid=0.15','Ln=500um; nmid=0.12',\\\n",
    "         'Ln=500um; nmid=0.15','Ln=500um; nmid=0.20',\\\n",
    "         'Ln=1000um; nmid=0.15']"
   ]
  },
  {
   "cell_type": "markdown",
   "metadata": {},
   "source": [
    "# Run cases and get $<I_{srs}>$ curves"
   ]
  },
  {
   "cell_type": "code",
   "execution_count": null,
   "metadata": {},
   "outputs": [],
   "source": [
    "# GPy Opt training set\n",
    "fresh_training = False\n",
    "tavg = 2\n",
    "cpus = 20\n",
    "train = 20\n",
    "Isrs0 = 8e10\n",
    "cells_per_wvl = 30\n",
    "if fresh_training:\n",
    "  t0 = stopwatch()\n",
    "  x0,y0 = rs.amp_par(lpse,dens,cdens,dlabs,tavg,Isrs0,\\\n",
    "                     cpus,train,cells_per_wvl)\n",
    "  t1 = stopwatch()\n",
    "  print(f'Time taken: {t1-t0:0.3f}s')\n",
    "  with open('train.pickle', 'wb') as f:\n",
    "    pickle.dump([x0,y0], f)\n",
    "else:\n",
    "  with open('train.pickle', 'rb') as f:\n",
    "    x0,y0 = pickle.load(f)"
   ]
  },
  {
   "cell_type": "code",
   "execution_count": null,
   "metadata": {},
   "outputs": [],
   "source": [
    "# Isrs curves\n",
    "fresh_results = False\n",
    "Irange = np.logspace(14,16,20)\n",
    "if fresh_results:\n",
    "  t0 = stopwatch()\n",
    "  isrs = rs.Isrs_dens(lpse,dens,cdens,dlabs,tavg=tavg,Isrs0=Isrs0,\\\n",
    "                      Irange=Irange,x0=x0,y0=y0,\\\n",
    "                      parallel=True,cpus=cpus,\\\n",
    "                      cells_per_wvl=cells_per_wvl)\n",
    "  t1 = stopwatch()\n",
    "  print(f'Time taken: {t1-t0:0.3f}s')\n",
    "  with open('isrs.pickle', 'wb') as f:\n",
    "    pickle.dump(isrs, f)\n",
    "else:\n",
    "  with open('isrs.pickle', 'rb') as f:\n",
    "    isrs = pickle.load(f)"
   ]
  },
  {
   "cell_type": "code",
   "execution_count": null,
   "metadata": {},
   "outputs": [],
   "source": [
    "# Plot curves\n",
    "for i in range(len(dlabs)):\n",
    "  plt.loglog(Irange,isrs[dlabs[i]],label=dlabs[i])\n",
    "plt.loglog(Irange,Irange,'--',label='Saturation')\n",
    "plt.ylim(None,1e16)\n",
    "plt.xlim(1e14,1e16)\n",
    "plt.legend()\n",
    "plt.show()"
   ]
  },
  {
   "cell_type": "code",
   "execution_count": null,
   "metadata": {},
   "outputs": [],
   "source": [
    "# Extract experimental datasets\n",
    "lasI = {}; srsI = {}\n",
    "srcs = ['epoch','fluid']\n",
    "vals = ['low','mid','high']\n",
    "typs = ['scale','dens']\n",
    "fnames = [f'SJdata/{i}_srs_{j}_{k}.csv' \\\n",
    "          for i in srcs for j in vals for k in typs]\n",
    "for i,j in enumerate(fnames):\n",
    "  lasI[i] = []; srsI[i] = []\n",
    "  with open(j,'r') as fp:\n",
    "    for line in fp:\n",
    "      lin = line.strip().split(',')\n",
    "      lasI[i].append(float(lin[0]))\n",
    "      srsI[i].append(float(lin[1]))"
   ]
  },
  {
   "cell_type": "code",
   "execution_count": null,
   "metadata": {},
   "outputs": [],
   "source": [
    "# Plot paper figures\n",
    "fig1 = [0,2,4]; fig2 = [1,2,3]\n",
    "fig1_epoch = [0,2,4]; fig2_epoch = [1,3,5]\n",
    "fig1_fluid = [6,8,10]; fig2_fluid = [7,9,11]\n",
    "labels = [f'{i}_{j}' for i in srcs for j in vals for k in range(2)]\n",
    "for i in fig1:\n",
    "  plt.loglog(Irange,isrs[dlabs[i]],label=dlabs[i])\n",
    "for i in fig1_epoch:\n",
    "  plt.loglog(lasI[i],srsI[i],'x--',label=labels[i])\n",
    "for i in fig1_fluid:\n",
    "  plt.loglog(lasI[i],srsI[i],'--',label=labels[i])\n",
    "plt.loglog(Irange,Irange,'--',label='Saturation')\n",
    "plt.ylim(4e10,1e16)\n",
    "plt.xlim(1e14,1e16)\n",
    "plt.legend(bbox_to_anchor=(1.05, 1))\n",
    "# plt.grid()\n",
    "plt.show()\n",
    "for i in fig2:\n",
    "  plt.loglog(Irange,isrs[dlabs[i]],label=dlabs[i])\n",
    "for i in fig2_epoch:\n",
    "  plt.loglog(lasI[i],srsI[i],'x--',label=labels[i])\n",
    "for i in fig2_fluid:\n",
    "  plt.loglog(lasI[i],srsI[i],'--',label=labels[i])\n",
    "plt.loglog(Irange,Irange,'--',label='Saturation')\n",
    "plt.ylim(None,1e16)\n",
    "plt.xlim(1e14,1e16)\n",
    "plt.legend(bbox_to_anchor=(1.05, 1))\n",
    "# plt.grid()\n",
    "plt.show()"
   ]
  },
  {
   "cell_type": "code",
   "execution_count": null,
   "metadata": {},
   "outputs": [],
   "source": []
  }
 ],
 "metadata": {
  "kernelspec": {
   "display_name": "Python 3",
   "language": "python",
   "name": "python3"
  },
  "language_info": {
   "codemirror_mode": {
    "name": "ipython",
    "version": 3
   },
   "file_extension": ".py",
   "mimetype": "text/x-python",
   "name": "python",
   "nbconvert_exporter": "python",
   "pygments_lexer": "ipython3",
   "version": "3.6.6"
  }
 },
 "nbformat": 4,
 "nbformat_minor": 2
}
