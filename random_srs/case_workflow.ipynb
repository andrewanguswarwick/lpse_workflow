{
 "cells": [
  {
   "cell_type": "markdown",
   "metadata": {},
   "source": [
    "# Initialisation"
   ]
  },
  {
   "cell_type": "code",
   "execution_count": null,
   "metadata": {},
   "outputs": [],
   "source": [
    "import write_files as wf\n",
    "import lpse_data as ld\n",
    "import random_srs as rs\n",
    "import matplotlib.pyplot as plt\n",
    "import numpy as np\n",
    "import copy\n",
    "import pickle\n",
    "from functools import partial\n",
    "from time import time as stopwatch\n",
    "\n",
    "# Ipython magic features\n",
    "# %load_ext autoreload\n",
    "# %autoreload 2\n",
    "%matplotlib notebook\n",
    "  \n",
    "# LPSE class\n",
    "lpse = ld.lpse_case()\n",
    "lpse.dfp = './data/lpse.' # Data file prefix\n",
    "lpse.verbose = False # Show prints\n",
    "lpse.np = 1 # Number of processors\n",
    "lpse.bin = '/home/space/phrfqm/lpse-3.2.11/bin/lpse_cpu' # Binary\n",
    "\n",
    "# Get new Isrs curves\n",
    "fresh_results = True"
   ]
  },
  {
   "cell_type": "markdown",
   "metadata": {},
   "source": [
    "# Base case setup"
   ]
  },
  {
   "cell_type": "code",
   "execution_count": null,
   "metadata": {},
   "outputs": [],
   "source": [
    "jc = wf.job_control()\n",
    "jc.version = '3.2.11' \n",
    "jc.seed = 1 # 0 for random, otherwise fixed seed\n",
    "jc.resources.heartbeatInterval = 0.1 # minutes\n",
    "lpse.add_class(jc)"
   ]
  },
  {
   "cell_type": "code",
   "execution_count": null,
   "metadata": {},
   "outputs": [],
   "source": [
    "gr = wf.gridding()\n",
    "gr.grid.sizes = 108 # microns\n",
    "gr.grid.nodes = 4321\n",
    "lpse.add_class(gr)"
   ]
  },
  {
   "cell_type": "code",
   "execution_count": null,
   "metadata": {},
   "outputs": [],
   "source": [
    "cm = wf.components()\n",
    "cm.laser.enable = 'true'\n",
    "cm.raman.enable = 'true'\n",
    "cm.lw.enable = 'true'\n",
    "lpse.add_class(cm)"
   ]
  },
  {
   "cell_type": "code",
   "execution_count": null,
   "metadata": {},
   "outputs": [],
   "source": [
    "tc = wf.temporal_control()\n",
    "tc.simulation.samplePeriod = 0.01 # ps\n",
    "tc.simulation.time.end = 0.05 # ps\n",
    "lpse.add_class(tc)"
   ]
  },
  {
   "cell_type": "code",
   "execution_count": null,
   "metadata": {},
   "outputs": [],
   "source": [
    "io = wf.io_control()\n",
    "io.grid.downSampleFactors = 1 # Spatial\n",
    "io.raman.save.S0.x = lpse.dfp + 'S1_x'\n",
    "lpse.add_class(io)"
   ]
  },
  {
   "cell_type": "code",
   "execution_count": null,
   "metadata": {},
   "outputs": [],
   "source": [
    "pp = wf.physical_parameters()\n",
    "pp.physical.Z = 3.5\n",
    "pp.physical.Te = 4.5 # keV\n",
    "pp.physical.Ti = 4.5 # keV\n",
    "pp.physical.MiOverMe = 11848.8\n",
    "pp.lw.envelopeDensity = 0.15\n",
    "pp.densityProfile.shape = 'exp'\n",
    "pp.densityProfile.geometry = 'cartesian'\n",
    "pp.densityProfile.NminOverNc = 0.14\n",
    "pp.densityProfile.NmaxOverNc = 0.17\n",
    "pp.densityProfile.NminLocation = '-50 0 0'\n",
    "pp.densityProfile.NmaxLocation = '50 0 0'\n",
    "lpse.add_class(pp)"
   ]
  },
  {
   "cell_type": "code",
   "execution_count": null,
   "metadata": {},
   "outputs": [],
   "source": [
    "lc = wf.light_control()\n",
    "lc.laser.wavelength = 0.351 # microns\n",
    "lc.laser.pumpDepletion.SRS.enable = 'true'\n",
    "lc.laser.solver = 'fd'\n",
    "lc.laser.evolution.Labc = 3 # microns\n",
    "lc.laser.evolution.Loff = 1 # microns\n",
    "lc.laser.evolution.solverOrder = 2\n",
    "lc.laser.evolution.dtFraction = 0.95\n",
    "lc.raman.sourceTerm.lw.enable = 'true'\n",
    "lc.raman.solver = 'fd'\n",
    "lc.raman.evolution.Labc = 3\n",
    "lc.raman.evolution.Loff = 1 \n",
    "lc.raman.evolution.solverOrder = 2\n",
    "lc.raman.evolution.dtFraction = 0.95\n",
    "lpse.add_class(lc)"
   ]
  },
  {
   "cell_type": "code",
   "execution_count": null,
   "metadata": {},
   "outputs": [],
   "source": [
    "ls = wf.light_source()\n",
    "ls.laser.nBeams = 1\n",
    "ls.laser.intensity = ['1.0e+14'] # W/cm^2\n",
    "ls.laser.phase = [0] # degrees\n",
    "ls.laser.polarization = [90] # degrees\n",
    "ls.laser.direction = ['1 0 0']\n",
    "ls.laser.frequencyShift = [0]\n",
    "ls.laser.group = [0]\n",
    "ls.laser.evolution.source = ['min.x']\n",
    "ls.laser.evolution.offset = ['0 0 0'] # microns\n",
    "ls.laser.evolution.width = [0] # Half-width at 1/e of sgauss [um]\n",
    "ls.laser.evolution.sgOrder = [4]\n",
    "lpse.add_class(ls)"
   ]
  },
  {
   "cell_type": "code",
   "execution_count": null,
   "metadata": {},
   "outputs": [],
   "source": [
    "lwc = wf.lw_control()\n",
    "lwc.lw.SRS.enable = 'true'\n",
    "lwc.lw.spectral.dt = 0.002 # ps\n",
    "lwc.lw.Labc = 3 # microns\n",
    "lwc.lw.noise.enable = 'true'\n",
    "lwc.lw.noise.isCalculated = 'false'\n",
    "lwc.lw.noise.amplitude = 0.0142\n",
    "lwc.lw.collisionalDampingRate = 0.1\n",
    "lwc.lw.__dict__['collisionalDampingRate.isCalculated'] = 'true'\n",
    "lpse.add_class(lwc)"
   ]
  },
  {
   "cell_type": "code",
   "execution_count": null,
   "metadata": {},
   "outputs": [],
   "source": [
    "ins = wf.instrumentation()\n",
    "ins.metrics.enable = 'true'\n",
    "ins.metrics.file = lpse.dfp + 'metrics'\n",
    "ins.metrics.samplePeriod = 0.01 # ps\n",
    "lpse.add_class(ins)"
   ]
  },
  {
   "cell_type": "markdown",
   "metadata": {},
   "source": [
    "# List of density profile classes"
   ]
  },
  {
   "cell_type": "code",
   "execution_count": null,
   "metadata": {},
   "outputs": [],
   "source": [
    "# format ppxy where x = L_n, y = n_mid, and 1,2,3 = low, mid, high\n",
    "pp22 = copy.deepcopy(pp)\n",
    "pp12 = copy.deepcopy(pp)\n",
    "pp12.densityProfile.NminOverNc = 0.13\n",
    "pp12.densityProfile.NmaxOverNc = 0.18\n",
    "pp21 = copy.deepcopy(pp)\n",
    "pp21.lw.envelopeDensity = 0.12\n",
    "pp21.densityProfile.NminOverNc = 0.11\n",
    "pp21.densityProfile.NmaxOverNc = 0.13\n",
    "pp23 = copy.deepcopy(pp)\n",
    "pp23.lw.envelopeDensity = 0.20\n",
    "pp23.densityProfile.NminOverNc = 0.18\n",
    "pp23.densityProfile.NmaxOverNc = 0.22\n",
    "pp32 = copy.deepcopy(pp)\n",
    "pp32.densityProfile.NminOverNc = 0.14\n",
    "pp32.densityProfile.NmaxOverNc = 0.16\n",
    "dens = [pp12,pp21,pp22,pp23,pp32]\n",
    "dlabs = ['Ln=300um; nmid=0.15','Ln=500um; nmid=0.12',\\\n",
    "         'Ln=500um; nmid=0.15','Ln=500um; nmid=0.20',\\\n",
    "         'Ln=1000um; nmid=0.15']"
   ]
  },
  {
   "cell_type": "markdown",
   "metadata": {},
   "source": [
    "# Run cases and get $<I_{srs}>$ curves"
   ]
  },
  {
   "cell_type": "code",
   "execution_count": null,
   "metadata": {},
   "outputs": [],
   "source": [
    "# GPy Opt training set\n",
    "tavg = 0.02\n",
    "x0,y0 = rs.amp_par(lpse,dens,dlabs,tavg=tavg,cpus=10,train=20)"
   ]
  },
  {
   "cell_type": "code",
   "execution_count": null,
   "metadata": {},
   "outputs": [],
   "source": [
    "Irange = np.logspace(14,16,20)\n",
    "if fresh_results:\n",
    "  isrs = rs.Isrs_dens(lpse,dens,dlabs,tavg=2,\\\n",
    "                      Isrs0=8e10,Irange=Irange)\n",
    "  print(isrs)\n",
    "  with open('isrs.pickle', 'wb') as f:\n",
    "    pickle.dump(isrs, f)\n",
    "else:\n",
    "  with open('isrs.pickle', 'rb') as f:\n",
    "    isrs = pickle.load(f)"
   ]
  },
  {
   "cell_type": "code",
   "execution_count": null,
   "metadata": {},
   "outputs": [],
   "source": [
    "# Plot curves\n",
    "for i in range(len(dlabs)):\n",
    "  plt.loglog(Irange,isrs[dlabs[i]],label=dlabs[i])\n",
    "plt.legend()\n",
    "plt.show()"
   ]
  },
  {
   "cell_type": "code",
   "execution_count": null,
   "metadata": {},
   "outputs": [],
   "source": []
  }
 ],
 "metadata": {
  "kernelspec": {
   "display_name": "Python 3",
   "language": "python",
   "name": "python3"
  },
  "language_info": {
   "codemirror_mode": {
    "name": "ipython",
    "version": 3
   },
   "file_extension": ".py",
   "mimetype": "text/x-python",
   "name": "python",
   "nbconvert_exporter": "python",
   "pygments_lexer": "ipython3",
   "version": "3.6.6"
  }
 },
 "nbformat": 4,
 "nbformat_minor": 2
}
