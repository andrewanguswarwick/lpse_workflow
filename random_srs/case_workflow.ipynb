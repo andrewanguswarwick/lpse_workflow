{
 "cells": [
  {
   "cell_type": "code",
   "execution_count": null,
   "metadata": {},
   "outputs": [],
   "source": [
    "# Initialisation\n",
    "import sys; sys.path.insert(0,'..')\n",
    "import lpse_utils.write_files as wf\n",
    "from lpse_utils.extract_data import get_metrics,get_fields\n",
    "import os\n",
    "import numpy as np\n",
    "%load_ext autoreload\n",
    "%autoreload 2\n",
    "os.system('> lpse.parms')\n",
    "try:\n",
    "  os.mkdir('data')\n",
    "except:\n",
    "  print('Data directory exists.')\n",
    "show_atts = True"
   ]
  },
  {
   "cell_type": "markdown",
   "metadata": {},
   "source": [
    "LPSE user guide contains additional options to those facilitated by current input classes"
   ]
  },
  {
   "cell_type": "markdown",
   "metadata": {},
   "source": [
    "# Job Control"
   ]
  },
  {
   "cell_type": "code",
   "execution_count": null,
   "metadata": {},
   "outputs": [],
   "source": [
    "jc = wf.job_control()\n",
    "jc.version = '3.2.11' \n",
    "jc.seed = 1 # 0 for random, otherwise fixed seed\n",
    "jc.resources.heartbeatInterval = 0.1 # minutes\n",
    "jc.write(show_atts)"
   ]
  },
  {
   "cell_type": "markdown",
   "metadata": {},
   "source": [
    "# Gridding"
   ]
  },
  {
   "cell_type": "code",
   "execution_count": null,
   "metadata": {},
   "outputs": [],
   "source": [
    "gr = wf.gridding()\n",
    "gr.grid.sizes = 100 # microns\n",
    "gr.grid.nodes = 4000\n",
    "gr.write(show_atts)"
   ]
  },
  {
   "cell_type": "markdown",
   "metadata": {},
   "source": [
    "# Components"
   ]
  },
  {
   "cell_type": "code",
   "execution_count": null,
   "metadata": {},
   "outputs": [],
   "source": [
    "cm = wf.components()\n",
    "cm.laser.enable = 'true'\n",
    "cm.raman.enable = 'true'\n",
    "cm.lw.enable = 'true'\n",
    "cm.write(show_atts)"
   ]
  },
  {
   "cell_type": "markdown",
   "metadata": {},
   "source": [
    "# Temporal Control"
   ]
  },
  {
   "cell_type": "code",
   "execution_count": null,
   "metadata": {},
   "outputs": [],
   "source": [
    "tc = wf.temporal_control()\n",
    "tc.simulation.samplePeriod = 0.05 # ps\n",
    "tc.simulation.time.end = 2 # ps\n",
    "tc.write(show_atts)"
   ]
  },
  {
   "cell_type": "markdown",
   "metadata": {},
   "source": [
    "# I/O Control"
   ]
  },
  {
   "cell_type": "code",
   "execution_count": null,
   "metadata": {},
   "outputs": [],
   "source": [
    "# Specifying a filename turns on output\n",
    "io = wf.io_control()\n",
    "io.grid.downSampleFactors = 4 # Spatial downsampling per dimension\n",
    "fp = './data/lpse.' # File prefix\n",
    "io.lw.save.pots = fp + 'pots'\n",
    "io.laser.save.E0.z = fp + 'E0_z'\n",
    "io.laser.save.S0.x = fp + 'S0_x'\n",
    "io.raman.save.E0.z = fp + 'E1_z'\n",
    "io.raman.save.S0.x = fp + 'S1_x'\n",
    "io.raman.save.E0.__dict__['2'] = None\n",
    "io.write(show_atts)"
   ]
  },
  {
   "cell_type": "markdown",
   "metadata": {},
   "source": [
    "# Physical Parameters"
   ]
  },
  {
   "cell_type": "code",
   "execution_count": null,
   "metadata": {},
   "outputs": [],
   "source": [
    "pp = wf.physical_parameters()\n",
    "pp.physical.Z = 3.5\n",
    "pp.physical.Te = 4.5\n",
    "pp.physical.Ti = 4.5\n",
    "pp.physical.MiOverMe = 11848.8\n",
    "pp.lw.envelopeDensity = 0.15\n",
    "pp.densityProfile.shape = 'exp'\n",
    "pp.densityProfile.NminOverNc = 0.14\n",
    "pp.densityProfile.NmaxOverNc = 0.17\n",
    "pp.densityProfile.NminLocation = '-50 0 0'\n",
    "pp.densityProfile.NmaxLocation = '50 0 0'\n",
    "pp.write(show_atts)"
   ]
  },
  {
   "cell_type": "markdown",
   "metadata": {},
   "source": [
    "# Light Control"
   ]
  },
  {
   "cell_type": "code",
   "execution_count": null,
   "metadata": {},
   "outputs": [],
   "source": [
    "lc = wf.light_control()\n",
    "lc.laser.pumpDepletion.SRS = 'true'\n",
    "lc.laser.solver = 'fd'\n",
    "lc.laser.evolution.Labc = 3\n",
    "lc.laser.evolution.Loff = 1\n",
    "lc.raman.sourceTerm.lw.enable = 'true'\n",
    "lc.raman.solver = 'fd'\n",
    "lc.raman.evolution.Labc = 3\n",
    "lc.write(show_atts)"
   ]
  },
  {
   "cell_type": "markdown",
   "metadata": {},
   "source": [
    "# Light Sources"
   ]
  },
  {
   "cell_type": "code",
   "execution_count": null,
   "metadata": {},
   "outputs": [],
   "source": [
    "# Laser light\n",
    "beams = 1 # Number of beamlets\n",
    "inten = ['2e+14'] # Intensities [W/cm^2]\n",
    "phase = [0] # Phases [degrees]\n",
    "polar = [90] # Polarisations [degrees]\n",
    "fshift = [0] # Frequency shifts from envelope frequency\n",
    "group = [0] # Beamlet groups\n",
    "direc = ['1 0 0'] # Direction (converted to unit vector internally)\n",
    "source = ['min.x'] # Boundary source\n",
    "offset = ['0 0 0'] # Offset from boundary centre [microns]\n",
    "width = [10] # Half-width at 1/e of super gaussian [microns]\n",
    "sgord = [4] # Order of super gaussian\n",
    "\n",
    "# Write\n",
    "specs = [inten,phase,polar,fshift,group,\\\n",
    "        direc,source,offset,width,sgord]\n",
    "light_input('laser',beams,specs)"
   ]
  },
  {
   "cell_type": "markdown",
   "metadata": {},
   "source": [
    "# Langmuir Wave Parameters"
   ]
  },
  {
   "cell_type": "code",
   "execution_count": null,
   "metadata": {},
   "outputs": [],
   "source": [
    "lwc = wf.lw_control()\n",
    "lwc.lw.SRS = 'true'\n",
    "lwc.lw.spectral.dt = 0.002 # ps\n",
    "lwc.lw.Labc = 3 # microns\n",
    "lwc.lw.noise.enable = 'true'\n",
    "lwc.lw.noise.isCalculated = 'true'\n",
    "lwc.lw.noise.amplitude = 1.67772\n",
    "lwc.lw.collisionalDampingRate = 0.1\n",
    "lwc.lw.__dict__['collisionalDampingRate.isCalculated'] = 'false'\n",
    "lwc.write(show_atts)"
   ]
  },
  {
   "cell_type": "markdown",
   "metadata": {},
   "source": [
    "# Ion Acoustic Wave Parameters"
   ]
  },
  {
   "cell_type": "code",
   "execution_count": null,
   "metadata": {},
   "outputs": [],
   "source": [
    "iawc = wf.iaw_control()\n",
    "iawc.write(show_atts)"
   ]
  },
  {
   "cell_type": "markdown",
   "metadata": {},
   "source": [
    "# Instrumentation"
   ]
  },
  {
   "cell_type": "code",
   "execution_count": null,
   "metadata": {},
   "outputs": [],
   "source": [
    "ins = wf.instrumentation()\n",
    "ins.metrics.enable = 'true'\n",
    "ins.metrics.file = fp + 'metrics'\n",
    "ins.metrics.samplePeriod = 0.01 # ps\n",
    "ins.write()"
   ]
  },
  {
   "cell_type": "markdown",
   "metadata": {},
   "source": [
    "# Run case"
   ]
  },
  {
   "cell_type": "code",
   "execution_count": null,
   "metadata": {},
   "outputs": [],
   "source": [
    "!{'mpirun -np 1 ../../bin/lpse_cpu --parms=lpse.parms'}"
   ]
  },
  {
   "cell_type": "markdown",
   "metadata": {},
   "source": [
    "# Visualise and extract datasets"
   ]
  },
  {
   "cell_type": "code",
   "execution_count": null,
   "metadata": {},
   "outputs": [],
   "source": [
    "# Extract metrics data\n",
    "mkeys, mdat = get_metrics(plot=True)\n",
    "print(mkeys)"
   ]
  },
  {
   "cell_type": "code",
   "execution_count": null,
   "metadata": {},
   "outputs": [],
   "source": [
    "# Extract fields data\n",
    "innerkys = ['time','x','data']\n",
    "outerkys = [field_fnames[i].replace(f_prefix,'') for i in range(len(field_fnames))]\n",
    "field_dicts = {i:{j:None for j in innerkys} for i in outerkys}\n",
    "for i in range(len(field_fnames)):\n",
    "    field_dicts[outerkys[i]] = get_fields(field_fnames[i],field_dicts[outerkys[i]],dsample,plot=True)"
   ]
  },
  {
   "cell_type": "code",
   "execution_count": null,
   "metadata": {},
   "outputs": [],
   "source": [
    "# Laser light transmission at final timestep\n",
    "icell = 50\n",
    "ocell = -50\n",
    "linx = field_dicts['S0_x']['x'][icell]\n",
    "lin = np.real(field_dicts['S0_x']['data'][-1,icell]) \n",
    "loutx = field_dicts['S0_x']['x'][ocell]\n",
    "lout = np.real(field_dicts['S0_x']['data'][-1,ocell])\n",
    "enl = 1-lout/lin\n",
    "print(f'Laser inner Poynting flux (at {linx:0.1f} um)' \\\n",
    "      + f' at sim end: {lin:0.3e} W/cm^2')\n",
    "print(f'Laser outer Poynting flux (at {loutx:0.1f} um)' \\\n",
    "      + f' at sim end: {lout:0.3e} W/cm^2')\n",
    "print(f'This is an energy loss of {enl:.2%}')"
   ]
  },
  {
   "cell_type": "code",
   "execution_count": null,
   "metadata": {},
   "outputs": [],
   "source": [
    "# Raman light energy gain at final timestep\n",
    "icell = -50\n",
    "ocell = 50\n",
    "rinx = field_dicts['S1_x']['x'][icell]\n",
    "rin = np.real(field_dicts['S1_x']['data'][-1,icell]) \n",
    "routx = field_dicts['S1_x']['x'][ocell]\n",
    "rout = np.real(field_dicts['S1_x']['data'][-1,ocell])\n",
    "eng = rout/rin - 1\n",
    "lenl = abs(rout-rin)/(lin-lout)\n",
    "print(f'Raman inner Poynting flux (at {rinx:0.1f} um)' \\\n",
    "      + f' at sim end: {rin:0.3e} W/cm^2')\n",
    "print(f'Raman outer Poynting flux (at {routx:0.1f} um)' \\\n",
    "      + f' at sim end: {rout:0.3e} W/cm^2')\n",
    "print(f'This is an energy gain of {eng:.2%}')\n",
    "print(f'It represents {lenl:.2%} of the laser energy loss')"
   ]
  }
 ],
 "metadata": {
  "kernelspec": {
   "display_name": "Python 3",
   "language": "python",
   "name": "python3"
  },
  "language_info": {
   "codemirror_mode": {
    "name": "ipython",
    "version": 3
   },
   "file_extension": ".py",
   "mimetype": "text/x-python",
   "name": "python",
   "nbconvert_exporter": "python",
   "pygments_lexer": "ipython3",
   "version": "3.6.6"
  }
 },
 "nbformat": 4,
 "nbformat_minor": 2
}
